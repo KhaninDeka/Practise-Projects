{
 "cells": [
  {
   "cell_type": "code",
   "execution_count": 165,
   "id": "e835b5c4",
   "metadata": {},
   "outputs": [],
   "source": [
    "# importing necessary libraries.\n",
    "\n",
    "import pandas as pd\n",
    "import numpy as np\n",
    "import seaborn as sns\n",
    "import matplotlib.pyplot as plt\n",
    "%matplotlib inline\n",
    "from sklearn.model_selection import train_test_split\n",
    "from sklearn.metrics import accuracy_score,confusion_matrix, classification_report\n",
    "from sklearn.metrics import roc_curve, roc_auc_score, plot_roc_curve\n",
    "from sklearn.model_selection import cross_val_score, KFold\n",
    "\n",
    "import warnings\n",
    "warnings.filterwarnings(\"ignore\")"
   ]
  },
  {
   "cell_type": "code",
   "execution_count": 166,
   "id": "d2570c53",
   "metadata": {},
   "outputs": [
    {
     "data": {
      "text/html": [
       "<div>\n",
       "<style scoped>\n",
       "    .dataframe tbody tr th:only-of-type {\n",
       "        vertical-align: middle;\n",
       "    }\n",
       "\n",
       "    .dataframe tbody tr th {\n",
       "        vertical-align: top;\n",
       "    }\n",
       "\n",
       "    .dataframe thead th {\n",
       "        text-align: right;\n",
       "    }\n",
       "</style>\n",
       "<table border=\"1\" class=\"dataframe\">\n",
       "  <thead>\n",
       "    <tr style=\"text-align: right;\">\n",
       "      <th></th>\n",
       "      <th>PassengerId</th>\n",
       "      <th>Survived</th>\n",
       "      <th>Pclass</th>\n",
       "      <th>Name</th>\n",
       "      <th>Sex</th>\n",
       "      <th>Age</th>\n",
       "      <th>SibSp</th>\n",
       "      <th>Parch</th>\n",
       "      <th>Ticket</th>\n",
       "      <th>Fare</th>\n",
       "      <th>Cabin</th>\n",
       "      <th>Embarked</th>\n",
       "    </tr>\n",
       "  </thead>\n",
       "  <tbody>\n",
       "    <tr>\n",
       "      <th>0</th>\n",
       "      <td>1</td>\n",
       "      <td>0</td>\n",
       "      <td>3</td>\n",
       "      <td>Braund, Mr. Owen Harris</td>\n",
       "      <td>male</td>\n",
       "      <td>22.0</td>\n",
       "      <td>1</td>\n",
       "      <td>0</td>\n",
       "      <td>A/5 21171</td>\n",
       "      <td>7.2500</td>\n",
       "      <td>NaN</td>\n",
       "      <td>S</td>\n",
       "    </tr>\n",
       "    <tr>\n",
       "      <th>1</th>\n",
       "      <td>2</td>\n",
       "      <td>1</td>\n",
       "      <td>1</td>\n",
       "      <td>Cumings, Mrs. John Bradley (Florence Briggs Th...</td>\n",
       "      <td>female</td>\n",
       "      <td>38.0</td>\n",
       "      <td>1</td>\n",
       "      <td>0</td>\n",
       "      <td>PC 17599</td>\n",
       "      <td>71.2833</td>\n",
       "      <td>C85</td>\n",
       "      <td>C</td>\n",
       "    </tr>\n",
       "    <tr>\n",
       "      <th>2</th>\n",
       "      <td>3</td>\n",
       "      <td>1</td>\n",
       "      <td>3</td>\n",
       "      <td>Heikkinen, Miss. Laina</td>\n",
       "      <td>female</td>\n",
       "      <td>26.0</td>\n",
       "      <td>0</td>\n",
       "      <td>0</td>\n",
       "      <td>STON/O2. 3101282</td>\n",
       "      <td>7.9250</td>\n",
       "      <td>NaN</td>\n",
       "      <td>S</td>\n",
       "    </tr>\n",
       "    <tr>\n",
       "      <th>3</th>\n",
       "      <td>4</td>\n",
       "      <td>1</td>\n",
       "      <td>1</td>\n",
       "      <td>Futrelle, Mrs. Jacques Heath (Lily May Peel)</td>\n",
       "      <td>female</td>\n",
       "      <td>35.0</td>\n",
       "      <td>1</td>\n",
       "      <td>0</td>\n",
       "      <td>113803</td>\n",
       "      <td>53.1000</td>\n",
       "      <td>C123</td>\n",
       "      <td>S</td>\n",
       "    </tr>\n",
       "    <tr>\n",
       "      <th>4</th>\n",
       "      <td>5</td>\n",
       "      <td>0</td>\n",
       "      <td>3</td>\n",
       "      <td>Allen, Mr. William Henry</td>\n",
       "      <td>male</td>\n",
       "      <td>35.0</td>\n",
       "      <td>0</td>\n",
       "      <td>0</td>\n",
       "      <td>373450</td>\n",
       "      <td>8.0500</td>\n",
       "      <td>NaN</td>\n",
       "      <td>S</td>\n",
       "    </tr>\n",
       "  </tbody>\n",
       "</table>\n",
       "</div>"
      ],
      "text/plain": [
       "   PassengerId  Survived  Pclass  \\\n",
       "0            1         0       3   \n",
       "1            2         1       1   \n",
       "2            3         1       3   \n",
       "3            4         1       1   \n",
       "4            5         0       3   \n",
       "\n",
       "                                                Name     Sex   Age  SibSp  \\\n",
       "0                            Braund, Mr. Owen Harris    male  22.0      1   \n",
       "1  Cumings, Mrs. John Bradley (Florence Briggs Th...  female  38.0      1   \n",
       "2                             Heikkinen, Miss. Laina  female  26.0      0   \n",
       "3       Futrelle, Mrs. Jacques Heath (Lily May Peel)  female  35.0      1   \n",
       "4                           Allen, Mr. William Henry    male  35.0      0   \n",
       "\n",
       "   Parch            Ticket     Fare Cabin Embarked  \n",
       "0      0         A/5 21171   7.2500   NaN        S  \n",
       "1      0          PC 17599  71.2833   C85        C  \n",
       "2      0  STON/O2. 3101282   7.9250   NaN        S  \n",
       "3      0            113803  53.1000  C123        S  \n",
       "4      0            373450   8.0500   NaN        S  "
      ]
     },
     "execution_count": 166,
     "metadata": {},
     "output_type": "execute_result"
    }
   ],
   "source": [
    "# getting the data.\n",
    "df= pd.read_csv(\"https://raw.githubusercontent.com/dsrscientist/dataset1/master/titanic_train.csv\")\n",
    "df.head()"
   ]
  },
  {
   "cell_type": "code",
   "execution_count": 167,
   "id": "f633ea1f",
   "metadata": {},
   "outputs": [],
   "source": [
    "# dropping the nominal data columns.\n",
    "df= df.drop(columns=[\"PassengerId\",\"Name\",\"Ticket\",\"Cabin\"])"
   ]
  },
  {
   "cell_type": "code",
   "execution_count": 168,
   "id": "35aeb220",
   "metadata": {},
   "outputs": [
    {
     "data": {
      "text/html": [
       "<div>\n",
       "<style scoped>\n",
       "    .dataframe tbody tr th:only-of-type {\n",
       "        vertical-align: middle;\n",
       "    }\n",
       "\n",
       "    .dataframe tbody tr th {\n",
       "        vertical-align: top;\n",
       "    }\n",
       "\n",
       "    .dataframe thead th {\n",
       "        text-align: right;\n",
       "    }\n",
       "</style>\n",
       "<table border=\"1\" class=\"dataframe\">\n",
       "  <thead>\n",
       "    <tr style=\"text-align: right;\">\n",
       "      <th></th>\n",
       "      <th>Survived</th>\n",
       "      <th>Pclass</th>\n",
       "      <th>Sex</th>\n",
       "      <th>Age</th>\n",
       "      <th>SibSp</th>\n",
       "      <th>Parch</th>\n",
       "      <th>Fare</th>\n",
       "      <th>Embarked</th>\n",
       "    </tr>\n",
       "  </thead>\n",
       "  <tbody>\n",
       "    <tr>\n",
       "      <th>0</th>\n",
       "      <td>0</td>\n",
       "      <td>3</td>\n",
       "      <td>male</td>\n",
       "      <td>22.0</td>\n",
       "      <td>1</td>\n",
       "      <td>0</td>\n",
       "      <td>7.2500</td>\n",
       "      <td>S</td>\n",
       "    </tr>\n",
       "    <tr>\n",
       "      <th>1</th>\n",
       "      <td>1</td>\n",
       "      <td>1</td>\n",
       "      <td>female</td>\n",
       "      <td>38.0</td>\n",
       "      <td>1</td>\n",
       "      <td>0</td>\n",
       "      <td>71.2833</td>\n",
       "      <td>C</td>\n",
       "    </tr>\n",
       "    <tr>\n",
       "      <th>2</th>\n",
       "      <td>1</td>\n",
       "      <td>3</td>\n",
       "      <td>female</td>\n",
       "      <td>26.0</td>\n",
       "      <td>0</td>\n",
       "      <td>0</td>\n",
       "      <td>7.9250</td>\n",
       "      <td>S</td>\n",
       "    </tr>\n",
       "    <tr>\n",
       "      <th>3</th>\n",
       "      <td>1</td>\n",
       "      <td>1</td>\n",
       "      <td>female</td>\n",
       "      <td>35.0</td>\n",
       "      <td>1</td>\n",
       "      <td>0</td>\n",
       "      <td>53.1000</td>\n",
       "      <td>S</td>\n",
       "    </tr>\n",
       "    <tr>\n",
       "      <th>4</th>\n",
       "      <td>0</td>\n",
       "      <td>3</td>\n",
       "      <td>male</td>\n",
       "      <td>35.0</td>\n",
       "      <td>0</td>\n",
       "      <td>0</td>\n",
       "      <td>8.0500</td>\n",
       "      <td>S</td>\n",
       "    </tr>\n",
       "  </tbody>\n",
       "</table>\n",
       "</div>"
      ],
      "text/plain": [
       "   Survived  Pclass     Sex   Age  SibSp  Parch     Fare Embarked\n",
       "0         0       3    male  22.0      1      0   7.2500        S\n",
       "1         1       1  female  38.0      1      0  71.2833        C\n",
       "2         1       3  female  26.0      0      0   7.9250        S\n",
       "3         1       1  female  35.0      1      0  53.1000        S\n",
       "4         0       3    male  35.0      0      0   8.0500        S"
      ]
     },
     "execution_count": 168,
     "metadata": {},
     "output_type": "execute_result"
    }
   ],
   "source": [
    "df.head()"
   ]
  },
  {
   "cell_type": "code",
   "execution_count": 169,
   "id": "b775616d",
   "metadata": {},
   "outputs": [
    {
     "name": "stdout",
     "output_type": "stream",
     "text": [
      "<class 'pandas.core.frame.DataFrame'>\n",
      "RangeIndex: 891 entries, 0 to 890\n",
      "Data columns (total 8 columns):\n",
      " #   Column    Non-Null Count  Dtype  \n",
      "---  ------    --------------  -----  \n",
      " 0   Survived  891 non-null    int64  \n",
      " 1   Pclass    891 non-null    int64  \n",
      " 2   Sex       891 non-null    object \n",
      " 3   Age       714 non-null    float64\n",
      " 4   SibSp     891 non-null    int64  \n",
      " 5   Parch     891 non-null    int64  \n",
      " 6   Fare      891 non-null    float64\n",
      " 7   Embarked  889 non-null    object \n",
      "dtypes: float64(2), int64(4), object(2)\n",
      "memory usage: 55.8+ KB\n"
     ]
    }
   ],
   "source": [
    "# getting the basic information about the columns and their data-type.\n",
    "df.info()"
   ]
  },
  {
   "cell_type": "code",
   "execution_count": 170,
   "id": "25fdec21",
   "metadata": {},
   "outputs": [
    {
     "data": {
      "text/plain": [
       "Survived      0\n",
       "Pclass        0\n",
       "Sex           0\n",
       "Age         177\n",
       "SibSp         0\n",
       "Parch         0\n",
       "Fare          0\n",
       "Embarked      2\n",
       "dtype: int64"
      ]
     },
     "execution_count": 170,
     "metadata": {},
     "output_type": "execute_result"
    }
   ],
   "source": [
    "# checking for null values.\n",
    "df.isnull().sum()"
   ]
  },
  {
   "cell_type": "code",
   "execution_count": 171,
   "id": "1adb3b65",
   "metadata": {},
   "outputs": [],
   "source": [
    "# filling the missing values of \"Age\" column with mean.\n",
    "df[\"Age\"]= df[\"Age\"].fillna(df[\"Age\"].mean())\n",
    "\n",
    "# filling the missing values of \"Embarked\" column with mode.\n",
    "df[\"Embarked\"]= df[\"Embarked\"].fillna(df[\"Embarked\"].mode()[0])"
   ]
  },
  {
   "cell_type": "code",
   "execution_count": 172,
   "id": "0a128c1e",
   "metadata": {},
   "outputs": [
    {
     "data": {
      "text/plain": [
       "Survived    0\n",
       "Pclass      0\n",
       "Sex         0\n",
       "Age         0\n",
       "SibSp       0\n",
       "Parch       0\n",
       "Fare        0\n",
       "Embarked    0\n",
       "dtype: int64"
      ]
     },
     "execution_count": 172,
     "metadata": {},
     "output_type": "execute_result"
    }
   ],
   "source": [
    "df.isnull().sum()"
   ]
  },
  {
   "cell_type": "code",
   "execution_count": 173,
   "id": "539cf331",
   "metadata": {},
   "outputs": [
    {
     "data": {
      "text/plain": [
       "False    780\n",
       "True     111\n",
       "dtype: int64"
      ]
     },
     "execution_count": 173,
     "metadata": {},
     "output_type": "execute_result"
    }
   ],
   "source": [
    "# checking for duplicates.\n",
    "df.duplicated().value_counts()"
   ]
  },
  {
   "cell_type": "code",
   "execution_count": 174,
   "id": "76284ce6",
   "metadata": {},
   "outputs": [
    {
     "data": {
      "text/plain": [
       "(780, 8)"
      ]
     },
     "execution_count": 174,
     "metadata": {},
     "output_type": "execute_result"
    }
   ],
   "source": [
    "# dropping the duplicate entries.\n",
    "df.drop_duplicates(inplace=True, ignore_index=True)\n",
    "df.shape"
   ]
  },
  {
   "cell_type": "code",
   "execution_count": 175,
   "id": "8c10c583",
   "metadata": {},
   "outputs": [],
   "source": [
    "# Encoding the categorical data columns into numerical format using the get_dummies method.\n",
    "df= pd.get_dummies(df,drop_first=True)"
   ]
  },
  {
   "cell_type": "code",
   "execution_count": 176,
   "id": "533fe5f3",
   "metadata": {},
   "outputs": [
    {
     "data": {
      "text/html": [
       "<div>\n",
       "<style scoped>\n",
       "    .dataframe tbody tr th:only-of-type {\n",
       "        vertical-align: middle;\n",
       "    }\n",
       "\n",
       "    .dataframe tbody tr th {\n",
       "        vertical-align: top;\n",
       "    }\n",
       "\n",
       "    .dataframe thead th {\n",
       "        text-align: right;\n",
       "    }\n",
       "</style>\n",
       "<table border=\"1\" class=\"dataframe\">\n",
       "  <thead>\n",
       "    <tr style=\"text-align: right;\">\n",
       "      <th></th>\n",
       "      <th>Survived</th>\n",
       "      <th>Pclass</th>\n",
       "      <th>Age</th>\n",
       "      <th>SibSp</th>\n",
       "      <th>Parch</th>\n",
       "      <th>Fare</th>\n",
       "      <th>Sex_male</th>\n",
       "      <th>Embarked_Q</th>\n",
       "      <th>Embarked_S</th>\n",
       "    </tr>\n",
       "  </thead>\n",
       "  <tbody>\n",
       "    <tr>\n",
       "      <th>0</th>\n",
       "      <td>0</td>\n",
       "      <td>3</td>\n",
       "      <td>22.0</td>\n",
       "      <td>1</td>\n",
       "      <td>0</td>\n",
       "      <td>7.2500</td>\n",
       "      <td>1</td>\n",
       "      <td>0</td>\n",
       "      <td>1</td>\n",
       "    </tr>\n",
       "    <tr>\n",
       "      <th>1</th>\n",
       "      <td>1</td>\n",
       "      <td>1</td>\n",
       "      <td>38.0</td>\n",
       "      <td>1</td>\n",
       "      <td>0</td>\n",
       "      <td>71.2833</td>\n",
       "      <td>0</td>\n",
       "      <td>0</td>\n",
       "      <td>0</td>\n",
       "    </tr>\n",
       "    <tr>\n",
       "      <th>2</th>\n",
       "      <td>1</td>\n",
       "      <td>3</td>\n",
       "      <td>26.0</td>\n",
       "      <td>0</td>\n",
       "      <td>0</td>\n",
       "      <td>7.9250</td>\n",
       "      <td>0</td>\n",
       "      <td>0</td>\n",
       "      <td>1</td>\n",
       "    </tr>\n",
       "    <tr>\n",
       "      <th>3</th>\n",
       "      <td>1</td>\n",
       "      <td>1</td>\n",
       "      <td>35.0</td>\n",
       "      <td>1</td>\n",
       "      <td>0</td>\n",
       "      <td>53.1000</td>\n",
       "      <td>0</td>\n",
       "      <td>0</td>\n",
       "      <td>1</td>\n",
       "    </tr>\n",
       "    <tr>\n",
       "      <th>4</th>\n",
       "      <td>0</td>\n",
       "      <td>3</td>\n",
       "      <td>35.0</td>\n",
       "      <td>0</td>\n",
       "      <td>0</td>\n",
       "      <td>8.0500</td>\n",
       "      <td>1</td>\n",
       "      <td>0</td>\n",
       "      <td>1</td>\n",
       "    </tr>\n",
       "  </tbody>\n",
       "</table>\n",
       "</div>"
      ],
      "text/plain": [
       "   Survived  Pclass   Age  SibSp  Parch     Fare  Sex_male  Embarked_Q  \\\n",
       "0         0       3  22.0      1      0   7.2500         1           0   \n",
       "1         1       1  38.0      1      0  71.2833         0           0   \n",
       "2         1       3  26.0      0      0   7.9250         0           0   \n",
       "3         1       1  35.0      1      0  53.1000         0           0   \n",
       "4         0       3  35.0      0      0   8.0500         1           0   \n",
       "\n",
       "   Embarked_S  \n",
       "0           1  \n",
       "1           0  \n",
       "2           1  \n",
       "3           1  \n",
       "4           1  "
      ]
     },
     "execution_count": 176,
     "metadata": {},
     "output_type": "execute_result"
    }
   ],
   "source": [
    "df.head()"
   ]
  },
  {
   "cell_type": "code",
   "execution_count": 177,
   "id": "8bec9ddb",
   "metadata": {},
   "outputs": [
    {
     "data": {
      "text/html": [
       "<div>\n",
       "<style scoped>\n",
       "    .dataframe tbody tr th:only-of-type {\n",
       "        vertical-align: middle;\n",
       "    }\n",
       "\n",
       "    .dataframe tbody tr th {\n",
       "        vertical-align: top;\n",
       "    }\n",
       "\n",
       "    .dataframe thead th {\n",
       "        text-align: right;\n",
       "    }\n",
       "</style>\n",
       "<table border=\"1\" class=\"dataframe\">\n",
       "  <thead>\n",
       "    <tr style=\"text-align: right;\">\n",
       "      <th></th>\n",
       "      <th>count</th>\n",
       "      <th>mean</th>\n",
       "      <th>std</th>\n",
       "      <th>min</th>\n",
       "      <th>25%</th>\n",
       "      <th>50%</th>\n",
       "      <th>75%</th>\n",
       "      <th>max</th>\n",
       "    </tr>\n",
       "  </thead>\n",
       "  <tbody>\n",
       "    <tr>\n",
       "      <th>Survived</th>\n",
       "      <td>780.0</td>\n",
       "      <td>0.412821</td>\n",
       "      <td>0.492657</td>\n",
       "      <td>0.00</td>\n",
       "      <td>0.00</td>\n",
       "      <td>0.000000</td>\n",
       "      <td>1.000</td>\n",
       "      <td>1.0000</td>\n",
       "    </tr>\n",
       "    <tr>\n",
       "      <th>Pclass</th>\n",
       "      <td>780.0</td>\n",
       "      <td>2.246154</td>\n",
       "      <td>0.854452</td>\n",
       "      <td>1.00</td>\n",
       "      <td>1.00</td>\n",
       "      <td>3.000000</td>\n",
       "      <td>3.000</td>\n",
       "      <td>3.0000</td>\n",
       "    </tr>\n",
       "    <tr>\n",
       "      <th>Age</th>\n",
       "      <td>780.0</td>\n",
       "      <td>29.797600</td>\n",
       "      <td>13.708883</td>\n",
       "      <td>0.42</td>\n",
       "      <td>21.75</td>\n",
       "      <td>29.699118</td>\n",
       "      <td>36.000</td>\n",
       "      <td>80.0000</td>\n",
       "    </tr>\n",
       "    <tr>\n",
       "      <th>SibSp</th>\n",
       "      <td>780.0</td>\n",
       "      <td>0.525641</td>\n",
       "      <td>0.988046</td>\n",
       "      <td>0.00</td>\n",
       "      <td>0.00</td>\n",
       "      <td>0.000000</td>\n",
       "      <td>1.000</td>\n",
       "      <td>8.0000</td>\n",
       "    </tr>\n",
       "    <tr>\n",
       "      <th>Parch</th>\n",
       "      <td>780.0</td>\n",
       "      <td>0.417949</td>\n",
       "      <td>0.838536</td>\n",
       "      <td>0.00</td>\n",
       "      <td>0.00</td>\n",
       "      <td>0.000000</td>\n",
       "      <td>1.000</td>\n",
       "      <td>6.0000</td>\n",
       "    </tr>\n",
       "    <tr>\n",
       "      <th>Fare</th>\n",
       "      <td>780.0</td>\n",
       "      <td>34.829108</td>\n",
       "      <td>52.263440</td>\n",
       "      <td>0.00</td>\n",
       "      <td>8.05</td>\n",
       "      <td>15.950000</td>\n",
       "      <td>34.375</td>\n",
       "      <td>512.3292</td>\n",
       "    </tr>\n",
       "    <tr>\n",
       "      <th>Sex_male</th>\n",
       "      <td>780.0</td>\n",
       "      <td>0.625641</td>\n",
       "      <td>0.484267</td>\n",
       "      <td>0.00</td>\n",
       "      <td>0.00</td>\n",
       "      <td>1.000000</td>\n",
       "      <td>1.000</td>\n",
       "      <td>1.0000</td>\n",
       "    </tr>\n",
       "    <tr>\n",
       "      <th>Embarked_Q</th>\n",
       "      <td>780.0</td>\n",
       "      <td>0.074359</td>\n",
       "      <td>0.262523</td>\n",
       "      <td>0.00</td>\n",
       "      <td>0.00</td>\n",
       "      <td>0.000000</td>\n",
       "      <td>0.000</td>\n",
       "      <td>1.0000</td>\n",
       "    </tr>\n",
       "    <tr>\n",
       "      <th>Embarked_S</th>\n",
       "      <td>780.0</td>\n",
       "      <td>0.726923</td>\n",
       "      <td>0.445826</td>\n",
       "      <td>0.00</td>\n",
       "      <td>0.00</td>\n",
       "      <td>1.000000</td>\n",
       "      <td>1.000</td>\n",
       "      <td>1.0000</td>\n",
       "    </tr>\n",
       "  </tbody>\n",
       "</table>\n",
       "</div>"
      ],
      "text/plain": [
       "            count       mean        std   min    25%        50%     75%  \\\n",
       "Survived    780.0   0.412821   0.492657  0.00   0.00   0.000000   1.000   \n",
       "Pclass      780.0   2.246154   0.854452  1.00   1.00   3.000000   3.000   \n",
       "Age         780.0  29.797600  13.708883  0.42  21.75  29.699118  36.000   \n",
       "SibSp       780.0   0.525641   0.988046  0.00   0.00   0.000000   1.000   \n",
       "Parch       780.0   0.417949   0.838536  0.00   0.00   0.000000   1.000   \n",
       "Fare        780.0  34.829108  52.263440  0.00   8.05  15.950000  34.375   \n",
       "Sex_male    780.0   0.625641   0.484267  0.00   0.00   1.000000   1.000   \n",
       "Embarked_Q  780.0   0.074359   0.262523  0.00   0.00   0.000000   0.000   \n",
       "Embarked_S  780.0   0.726923   0.445826  0.00   0.00   1.000000   1.000   \n",
       "\n",
       "                 max  \n",
       "Survived      1.0000  \n",
       "Pclass        3.0000  \n",
       "Age          80.0000  \n",
       "SibSp         8.0000  \n",
       "Parch         6.0000  \n",
       "Fare        512.3292  \n",
       "Sex_male      1.0000  \n",
       "Embarked_Q    1.0000  \n",
       "Embarked_S    1.0000  "
      ]
     },
     "execution_count": 177,
     "metadata": {},
     "output_type": "execute_result"
    }
   ],
   "source": [
    "# Let's look at some of the properties of our dataset.\n",
    "df.describe().T"
   ]
  },
  {
   "cell_type": "code",
   "execution_count": 178,
   "id": "39af778a",
   "metadata": {},
   "outputs": [
    {
     "data": {
      "image/png": "[encoded data removed]",
      "text/plain": [
       "<Figure size 1080x792 with 9 Axes>"
      ]
     },
     "metadata": {
      "needs_background": "light"
     },
     "output_type": "display_data"
    }
   ],
   "source": [
    "# Let's visualize the data-distribution using distplot.\n",
    "plt.figure(figsize=(15,11))\n",
    "plotnumber=1\n",
    "for column in df:\n",
    "    if plotnumber<=9:\n",
    "        ax= plt.subplot(3,3,plotnumber)\n",
    "        sns.distplot(df[column])\n",
    "        plt.xlabel(column,fontsize=15)\n",
    "    plotnumber+=1\n",
    "plt.show()"
   ]
  },
  {
   "cell_type": "code",
   "execution_count": 179,
   "id": "7562ee22",
   "metadata": {},
   "outputs": [
    {
     "data": {
      "text/plain": [
       "Survived      0.354825\n",
       "Pclass       -0.494364\n",
       "Age           0.397400\n",
       "SibSp         3.046805\n",
       "Parch         2.624282\n",
       "Fare          4.561010\n",
       "Sex_male     -0.520225\n",
       "Embarked_Q    3.251037\n",
       "Embarked_S   -1.020607\n",
       "dtype: float64"
      ]
     },
     "execution_count": 179,
     "metadata": {},
     "output_type": "execute_result"
    }
   ],
   "source": [
    "# checking the skewness of the data for the continuous data columns i.e. \"Age\" and \"Fare\"\n",
    "df.skew()\n",
    "\n",
    "# \"Fare\" column seems to have highly skewed data."
   ]
  },
  {
   "cell_type": "code",
   "execution_count": 180,
   "id": "6b7e655c",
   "metadata": {},
   "outputs": [
    {
     "data": {
      "text/plain": [
       "<AxesSubplot:xlabel='Fare', ylabel='Density'>"
      ]
     },
     "execution_count": 180,
     "metadata": {},
     "output_type": "execute_result"
    },
    {
     "data": {
      "image/png": "[encoded data removed]",
      "text/plain": [
       "<Figure size 432x288 with 1 Axes>"
      ]
     },
     "metadata": {
      "needs_background": "light"
     },
     "output_type": "display_data"
    }
   ],
   "source": [
    "sns.distplot(df[\"Fare\"])"
   ]
  },
  {
   "cell_type": "code",
   "execution_count": 181,
   "id": "89dcc2a3",
   "metadata": {},
   "outputs": [
    {
     "data": {
      "text/plain": [
       "<AxesSubplot:xlabel='Fare'>"
      ]
     },
     "execution_count": 181,
     "metadata": {},
     "output_type": "execute_result"
    },
    {
     "data": {
      "image/png": "[encoded data removed]",
      "text/plain": [
       "<Figure size 432x288 with 1 Axes>"
      ]
     },
     "metadata": {
      "needs_background": "light"
     },
     "output_type": "display_data"
    }
   ],
   "source": [
    "# Let's check the box-plot for \"Fare\" column.\n",
    "sns.boxplot(df[\"Fare\"])"
   ]
  },
  {
   "cell_type": "code",
   "execution_count": 183,
   "id": "23374aca",
   "metadata": {},
   "outputs": [],
   "source": [
    "# Since our dataset is quite small, I don't want to trim it any further.\n",
    "# So, let's apply power-transformation on the \"Fare\" column and see if we can bring the skewness down to an acceptable level.\n",
    "from sklearn.preprocessing import PowerTransformer\n",
    "\n",
    "pt= PowerTransformer(method=\"yeo-johnson\")\n",
    "df[\"Fare\"]= pt.fit_transform(df[[\"Fare\"]])"
   ]
  },
  {
   "cell_type": "code",
   "execution_count": 184,
   "id": "63c75f01",
   "metadata": {},
   "outputs": [
    {
     "name": "stdout",
     "output_type": "stream",
     "text": [
      "Skewness: -0.041013733506485385\n"
     ]
    },
    {
     "data": {
      "image/png": "[encoded data removed]",
      "text/plain": [
       "<Figure size 432x288 with 1 Axes>"
      ]
     },
     "metadata": {
      "needs_background": "light"
     },
     "output_type": "display_data"
    }
   ],
   "source": [
    "# Skewness and dist-plot after applying power-transformation.\n",
    "sns.distplot(df[\"Fare\"])\n",
    "print(\"Skewness:\",df[\"Fare\"].skew())\n",
    "\n",
    "# Skewness has come down to an acceptable level."
   ]
  },
  {
   "cell_type": "code",
   "execution_count": 185,
   "id": "703af642",
   "metadata": {},
   "outputs": [
    {
     "data": {
      "text/plain": [
       "<AxesSubplot:xlabel='Age'>"
      ]
     },
     "execution_count": 185,
     "metadata": {},
     "output_type": "execute_result"
    },
    {
     "data": {
      "image/png": "[encoded data removed]",
      "text/plain": [
       "<Figure size 432x288 with 1 Axes>"
      ]
     },
     "metadata": {
      "needs_background": "light"
     },
     "output_type": "display_data"
    }
   ],
   "source": [
    "# Let's check the box-plot for \"Age\" column.\n",
    "sns.boxplot(df[\"Age\"])\n",
    "\n",
    "# There seems to be \"outliers\" but they are real data of people who are aged. It's valueable information in my opinion as\n",
    "# we can get an idea of survival chances of the elderly people. \n",
    "# The skewness of \"Age\" column is 0.39 which is at an acceptable level. Hence I'm deciding not to delete any record."
   ]
  },
  {
   "cell_type": "code",
   "execution_count": 186,
   "id": "bd087bab",
   "metadata": {},
   "outputs": [
    {
     "data": {
      "text/plain": [
       "<AxesSubplot:xlabel='Survived', ylabel='Age'>"
      ]
     },
     "execution_count": 186,
     "metadata": {},
     "output_type": "execute_result"
    },
    {
     "data": {
      "image/png": "[encoded data removed]",
      "text/plain": [
       "<Figure size 432x288 with 1 Axes>"
      ]
     },
     "metadata": {
      "needs_background": "light"
     },
     "output_type": "display_data"
    }
   ],
   "source": [
    "# scatter-plot of \"Age\" column with the target variable.\n",
    "sns.scatterplot(x=df[\"Survived\"],y=df[\"Age\"])"
   ]
  },
  {
   "cell_type": "code",
   "execution_count": 187,
   "id": "5b8696e9",
   "metadata": {},
   "outputs": [
    {
     "data": {
      "image/png": "[encoded data removed]",
      "text/plain": [
       "<Figure size 864x576 with 2 Axes>"
      ]
     },
     "metadata": {
      "needs_background": "light"
     },
     "output_type": "display_data"
    }
   ],
   "source": [
    "# Let's see the correlation heat-map.\n",
    "corr= df.corr()\n",
    "plt.figure(figsize=(12,8))\n",
    "sns.heatmap(corr, annot= True, cmap=\"coolwarm\")\n",
    "plt.show()\n",
    "\n",
    "# \"Fare\" and \"Pclass\" features maybe related. We will check for multicollinearity using vif and take necessary action if needed."
   ]
  },
  {
   "cell_type": "code",
   "execution_count": 188,
   "id": "5ac44dd7",
   "metadata": {},
   "outputs": [
    {
     "data": {
      "text/plain": [
       "Survived      1.000000\n",
       "Pclass        0.336244\n",
       "Age           0.079192\n",
       "SibSp         0.037597\n",
       "Parch         0.069669\n",
       "Fare          0.309423\n",
       "Sex_male      0.513615\n",
       "Embarked_Q    0.039142\n",
       "Embarked_S    0.128985\n",
       "Name: Survived, dtype: float64"
      ]
     },
     "execution_count": 188,
     "metadata": {},
     "output_type": "execute_result"
    }
   ],
   "source": [
    "# Lets check the correlation of our columns with the target variable.\n",
    "correlation= df.corr()\n",
    "np.abs(correlation[\"Survived\"])\n",
    "\n",
    "# \"SibSp\" feature seems to be very weakly related with our target variable.(value<0.05)"
   ]
  },
  {
   "cell_type": "code",
   "execution_count": 189,
   "id": "c1b00159",
   "metadata": {},
   "outputs": [],
   "source": [
    "# dropping the \"SibSp\" column.\n",
    "df.drop(columns=[\"SibSp\"],inplace=True)"
   ]
  },
  {
   "cell_type": "code",
   "execution_count": 190,
   "id": "f2c5899b",
   "metadata": {},
   "outputs": [],
   "source": [
    "# Separating target variable and features.\n",
    "X= df.drop(columns=[\"Survived\"])\n",
    "y= df[\"Survived\"]"
   ]
  },
  {
   "cell_type": "code",
   "execution_count": 191,
   "id": "d7c2a84e",
   "metadata": {},
   "outputs": [],
   "source": [
    "# Scaling the data using Standard-Scaler.\n",
    "from sklearn.preprocessing import StandardScaler\n",
    "scaler= StandardScaler()\n",
    "X_scaled= scaler.fit_transform(X)"
   ]
  },
  {
   "cell_type": "code",
   "execution_count": 192,
   "id": "90d04237",
   "metadata": {},
   "outputs": [
    {
     "name": "stdout",
     "output_type": "stream",
     "text": [
      "        vif    Features\n",
      "0  2.443465      Pclass\n",
      "1  1.200805         Age\n",
      "2  1.330673       Parch\n",
      "3  2.458923        Fare\n",
      "4  1.118140    Sex_male\n",
      "5  1.407048  Embarked_Q\n",
      "6  1.379983  Embarked_S\n"
     ]
    }
   ],
   "source": [
    "# checking the variance-inflation-factor among our features.\n",
    "from statsmodels.stats.outliers_influence import variance_inflation_factor\n",
    "\n",
    "vif = pd.DataFrame()\n",
    "vif[\"vif\"]=[variance_inflation_factor(X_scaled,i) for i in range(X_scaled.shape[1])]\n",
    "vif[\"Features\"]= X.columns\n",
    "print(vif)\n",
    "\n",
    "# There doesn't seems to be any multicollinearity problem as all values are within an acceptable range."
   ]
  },
  {
   "cell_type": "code",
   "execution_count": 193,
   "id": "4f9a324c",
   "metadata": {},
   "outputs": [
    {
     "name": "stdout",
     "output_type": "stream",
     "text": [
      "Training Score for sample 0 : 76.58\n",
      "Testing Score for sample 0 : 83.08\n",
      "\n",
      "\n",
      "Training Score for sample 1 : 78.12\n",
      "Testing Score for sample 1 : 75.38\n",
      "\n",
      "\n",
      "Training Score for sample 2 : 76.24\n",
      "Testing Score for sample 2 : 84.1\n",
      "\n",
      "\n",
      "Training Score for sample 3 : 76.92\n",
      "Testing Score for sample 3 : 77.44\n",
      "\n",
      "\n",
      "Training Score for sample 4 : 78.29\n",
      "Testing Score for sample 4 : 76.92\n",
      "\n",
      "\n",
      "Training Score for sample 5 : 77.61\n",
      "Testing Score for sample 5 : 78.97\n",
      "\n",
      "\n",
      "Training Score for sample 6 : 77.78\n",
      "Testing Score for sample 6 : 75.9\n",
      "\n",
      "\n",
      "Training Score for sample 7 : 76.75\n",
      "Testing Score for sample 7 : 82.05\n",
      "\n",
      "\n",
      "Training Score for sample 8 : 77.26\n",
      "Testing Score for sample 8 : 77.95\n",
      "\n",
      "\n",
      "Training Score for sample 9 : 77.26\n",
      "Testing Score for sample 9 : 77.95\n",
      "\n",
      "\n"
     ]
    }
   ],
   "source": [
    "############################################## LOGISTIC REGRESSION #############################################################\n",
    "\n",
    "from sklearn.linear_model import LogisticRegression\n",
    "for i in range(0,10):\n",
    "    x_train,x_test,y_train,y_test = train_test_split(X_scaled,y,test_size=0.25,stratify=y,random_state=i)\n",
    "\n",
    "    lr= LogisticRegression()\n",
    "    lr.fit(x_train, y_train)\n",
    "\n",
    "    y_pred_train = lr.predict(x_train)\n",
    "    accuracy_train = accuracy_score(y_train,y_pred_train)\n",
    "    print(\"Training Score for sample\",i,\":\",round(accuracy_train*100,2))\n",
    "\n",
    "    y_pred= lr.predict(x_test)\n",
    "    accuracy_test = accuracy_score(y_test,y_pred)\n",
    "    print(\"Testing Score for sample\",i,\":\",round(accuracy_test*100,2)) \n",
    "    print(\"\\n\")"
   ]
  },
  {
   "cell_type": "code",
   "execution_count": 195,
   "id": "697ac965",
   "metadata": {},
   "outputs": [
    {
     "name": "stdout",
     "output_type": "stream",
     "text": [
      "Training Score for sample 0 : 97.61\n",
      "Testing Score for sample 0 : 80.51\n",
      "\n",
      "\n",
      "Training Score for sample 1 : 98.12\n",
      "Testing Score for sample 1 : 74.36\n",
      "\n",
      "\n",
      "Training Score for sample 2 : 97.95\n",
      "Testing Score for sample 2 : 78.46\n",
      "\n",
      "\n",
      "Training Score for sample 3 : 97.95\n",
      "Testing Score for sample 3 : 80.51\n",
      "\n",
      "\n",
      "Training Score for sample 4 : 98.29\n",
      "Testing Score for sample 4 : 76.41\n",
      "\n",
      "\n",
      "Training Score for sample 5 : 98.12\n",
      "Testing Score for sample 5 : 72.31\n",
      "\n",
      "\n",
      "Training Score for sample 6 : 98.29\n",
      "Testing Score for sample 6 : 76.92\n",
      "\n",
      "\n",
      "Training Score for sample 7 : 98.12\n",
      "Testing Score for sample 7 : 81.54\n",
      "\n",
      "\n",
      "Training Score for sample 8 : 98.29\n",
      "Testing Score for sample 8 : 77.95\n",
      "\n",
      "\n",
      "Training Score for sample 9 : 98.46\n",
      "Testing Score for sample 9 : 81.54\n",
      "\n",
      "\n"
     ]
    }
   ],
   "source": [
    "############################################## RANDOM FOREST CLASSIFIER ########################################################\n",
    "\n",
    "from sklearn.ensemble import RandomForestClassifier\n",
    "for i in range(0,10):\n",
    "    x_train,x_test,y_train,y_test = train_test_split(X_scaled,y,test_size=0.25,stratify=y,random_state=i)\n",
    "\n",
    "    rf= RandomForestClassifier(n_jobs=-1)\n",
    "    rf.fit(x_train, y_train)\n",
    "\n",
    "    y_pred_train = rf.predict(x_train)\n",
    "    accuracy_train = accuracy_score(y_train,y_pred_train)\n",
    "    print(\"Training Score for sample\",i,\":\",round(accuracy_train*100,2))\n",
    "\n",
    "    y_pred= rf.predict(x_test)\n",
    "    accuracy_test = accuracy_score(y_test,y_pred)\n",
    "    print(\"Testing Score for sample\",i,\":\",round(accuracy_test*100,2)) \n",
    "    print(\"\\n\")"
   ]
  },
  {
   "cell_type": "code",
   "execution_count": 196,
   "id": "6e5b5888",
   "metadata": {},
   "outputs": [
    {
     "name": "stdout",
     "output_type": "stream",
     "text": [
      "Training Score for sample 0 : 84.27\n",
      "Testing Score for sample 0 : 79.49\n",
      "\n",
      "\n",
      "Training Score for sample 1 : 85.81\n",
      "Testing Score for sample 1 : 76.41\n",
      "\n",
      "\n",
      "Training Score for sample 2 : 83.93\n",
      "Testing Score for sample 2 : 79.49\n",
      "\n",
      "\n",
      "Training Score for sample 3 : 83.76\n",
      "Testing Score for sample 3 : 79.49\n",
      "\n",
      "\n",
      "Training Score for sample 4 : 82.05\n",
      "Testing Score for sample 4 : 78.46\n",
      "\n",
      "\n",
      "Training Score for sample 5 : 83.42\n",
      "Testing Score for sample 5 : 81.03\n",
      "\n",
      "\n",
      "Training Score for sample 6 : 85.13\n",
      "Testing Score for sample 6 : 75.9\n",
      "\n",
      "\n",
      "Training Score for sample 7 : 82.74\n",
      "Testing Score for sample 7 : 82.56\n",
      "\n",
      "\n",
      "Training Score for sample 8 : 84.27\n",
      "Testing Score for sample 8 : 80.0\n",
      "\n",
      "\n",
      "Training Score for sample 9 : 84.27\n",
      "Testing Score for sample 9 : 78.97\n",
      "\n",
      "\n"
     ]
    }
   ],
   "source": [
    "################################################## KNN CLASSIFIER ##############################################################\n",
    "\n",
    "from sklearn.neighbors import KNeighborsClassifier\n",
    "for i in range(0,10):\n",
    "    x_train,x_test,y_train,y_test = train_test_split(X_scaled,y,test_size=0.25,stratify=y,random_state=i)\n",
    "    \n",
    "    knn= KNeighborsClassifier()\n",
    "    knn.fit(x_train, y_train)\n",
    "\n",
    "    y_pred_train = knn.predict(x_train)\n",
    "    accuracy_train = accuracy_score(y_train,y_pred_train)\n",
    "    print(\"Training Score for sample\",i,\":\",round(accuracy_train*100,2))\n",
    "\n",
    "    y_pred= knn.predict(x_test)\n",
    "    accuracy_test = accuracy_score(y_test,y_pred)\n",
    "    print(\"Testing Score for sample\",i,\":\",round(accuracy_test*100,2))\n",
    "    print(\"\\n\")"
   ]
  },
  {
   "cell_type": "code",
   "execution_count": 197,
   "id": "97656a6e",
   "metadata": {},
   "outputs": [
    {
     "name": "stdout",
     "output_type": "stream",
     "text": [
      "Training Score for sample 0 : 80.85\n",
      "Testing Score for sample 0 : 81.54\n",
      "\n",
      "\n",
      "Training Score for sample 1 : 82.39\n",
      "Testing Score for sample 1 : 76.41\n",
      "\n",
      "\n",
      "Training Score for sample 2 : 80.85\n",
      "Testing Score for sample 2 : 81.54\n",
      "\n",
      "\n",
      "Training Score for sample 3 : 81.03\n",
      "Testing Score for sample 3 : 79.49\n",
      "\n",
      "\n",
      "Training Score for sample 4 : 80.68\n",
      "Testing Score for sample 4 : 81.03\n",
      "\n",
      "\n",
      "Training Score for sample 5 : 81.03\n",
      "Testing Score for sample 5 : 78.97\n",
      "\n",
      "\n",
      "Training Score for sample 6 : 81.54\n",
      "Testing Score for sample 6 : 77.95\n",
      "\n",
      "\n",
      "Training Score for sample 7 : 81.2\n",
      "Testing Score for sample 7 : 82.56\n",
      "\n",
      "\n",
      "Training Score for sample 8 : 80.51\n",
      "Testing Score for sample 8 : 80.51\n",
      "\n",
      "\n",
      "Training Score for sample 9 : 81.37\n",
      "Testing Score for sample 9 : 81.03\n",
      "\n",
      "\n"
     ]
    }
   ],
   "source": [
    "############################################## SUPPORT VECTOR MACHINE ##########################################################\n",
    "\n",
    "from sklearn.svm import SVC\n",
    "for i in range(0,10):\n",
    "    x_train,x_test,y_train,y_test = train_test_split(X_scaled,y,test_size=0.25,stratify=y,random_state=i)\n",
    "    \n",
    "    svc= SVC()\n",
    "    svc.fit(x_train, y_train)\n",
    "\n",
    "    y_pred_train = svc.predict(x_train)\n",
    "    accuracy_train = accuracy_score(y_train,y_pred_train)\n",
    "    print(\"Training Score for sample\",i,\":\",round(accuracy_train*100,2))\n",
    "\n",
    "    y_pred= svc.predict(x_test)\n",
    "    accuracy_test = accuracy_score(y_test,y_pred)\n",
    "    print(\"Testing Score for sample\",i,\":\",round(accuracy_test*100,2)) \n",
    "    print(\"\\n\")"
   ]
  },
  {
   "cell_type": "code",
   "execution_count": 205,
   "id": "4dbc1a51",
   "metadata": {},
   "outputs": [
    {
     "data": {
      "image/png": "[encoded data removed]",
      "text/plain": [
       "<Figure size 432x288 with 1 Axes>"
      ]
     },
     "metadata": {
      "needs_background": "light"
     },
     "output_type": "display_data"
    }
   ],
   "source": [
    "# plotting the roc-auc curves for training data.\n",
    "x_train,x_test,y_train,y_test = train_test_split(X_scaled,y,test_size=0.25,stratify=y,random_state=0)\n",
    "\n",
    "disp_train= plot_roc_curve(lr,x_train,y_train)\n",
    "plot_roc_curve(rf,x_train,y_train, ax=disp_train.ax_)\n",
    "plot_roc_curve(knn,x_train,y_train, ax=disp_train.ax_)\n",
    "plot_roc_curve(svc,x_train,y_train, ax=disp_train.ax_)\n",
    "plt.show()"
   ]
  },
  {
   "cell_type": "code",
   "execution_count": 206,
   "id": "4f2589c3",
   "metadata": {},
   "outputs": [
    {
     "data": {
      "image/png": "[encoded data removed]",
      "text/plain": [
       "<Figure size 432x288 with 1 Axes>"
      ]
     },
     "metadata": {
      "needs_background": "light"
     },
     "output_type": "display_data"
    }
   ],
   "source": [
    "# plotting the roc-auc curves for testing data.\n",
    "\n",
    "disp_test= plot_roc_curve(lr,x_test,y_test)\n",
    "plot_roc_curve(rf,x_test,y_test, ax=disp_test.ax_)\n",
    "plot_roc_curve(knn,x_test,y_test, ax=disp_test.ax_)\n",
    "plot_roc_curve(svc,x_test,y_test, ax=disp_test.ax_)\n",
    "plt.show()"
   ]
  },
  {
   "cell_type": "code",
   "execution_count": 202,
   "id": "d09ec7b8",
   "metadata": {},
   "outputs": [
    {
     "name": "stdout",
     "output_type": "stream",
     "text": [
      "Best Parameters: {'max_depth': 6, 'min_samples_split': 3, 'n_estimators': 200}\n",
      "Training Score: 85.13\n",
      "Testing Score: 81.03 \n",
      "\n",
      "++++++++++++++ CLASSIFICATION REPORT ++++++++++++++++\n",
      "              precision    recall  f1-score   support\n",
      "\n",
      "           0       0.76      0.94      0.84       105\n",
      "           1       0.91      0.66      0.76        90\n",
      "\n",
      "    accuracy                           0.81       195\n",
      "   macro avg       0.83      0.80      0.80       195\n",
      "weighted avg       0.83      0.81      0.81       195\n",
      "\n",
      "++++++++++++++ CONFUSION MATRIX ++++++++++++++++\n",
      "\n",
      " [[99  6]\n",
      " [31 59]] \n",
      "\n",
      "++++++++++++++ CROSS VALIDATION ++++++++++++++++ \n",
      "\n",
      "the cv score for 5 fold: 78.59\n",
      "the cv score for 6 fold: 78.85\n",
      "the cv score for 7 fold: 79.36\n",
      "the cv score for 8 fold: 79.75\n",
      "the cv score for 9 fold: 78.85\n"
     ]
    }
   ],
   "source": [
    "#Hyperparameter tuning of Random Forests Classifier using GridSearchCV.\n",
    "\n",
    "params= {\"n_estimators\": np.arange(50,300,50),\n",
    "         \"max_depth\": range(6,10),\n",
    "         \"min_samples_split\": range(2,5)\n",
    "         }\n",
    "grd_rf= GridSearchCV(rf, param_grid=params,cv=5,n_jobs=-1)\n",
    "grd_rf.fit(x_train,y_train)\n",
    "print(\"Best Parameters:\",grd_rf.best_params_)\n",
    "\n",
    " \n",
    "# Taking the best sample split result and applying on the tuned Random Forests model.\n",
    "\n",
    "x_train,x_test,y_train,y_test = train_test_split(X_scaled,y,test_size=0.25,random_state=9)\n",
    "\n",
    "rf_tuned =grd_rf.best_estimator_\n",
    "rf_tuned.fit(x_train, y_train)\n",
    "    \n",
    "y_pred_train = rf_tuned.predict(x_train)\n",
    "accuracy_train = accuracy_score(y_train,y_pred_train)\n",
    "print(\"Training Score:\",round(accuracy_train*100,2))\n",
    "\n",
    "y_pred= rf_tuned.predict(x_test)\n",
    "accuracy_test = accuracy_score(y_test,y_pred)\n",
    "print(\"Testing Score:\",round(accuracy_test*100,2),\"\\n\")\n",
    "\n",
    "print(\"++++++++++++++ CLASSIFICATION REPORT ++++++++++++++++\")\n",
    "print(classification_report(y_test,y_pred,digits=2))\n",
    "\n",
    "print(\"++++++++++++++ CONFUSION MATRIX ++++++++++++++++\")\n",
    "print(\"\\n\",confusion_matrix(y_test,y_pred),\"\\n\")\n",
    "\n",
    "print(\"++++++++++++++ CROSS VALIDATION ++++++++++++++++\",\"\\n\")\n",
    "for i in range(5,10):\n",
    "    cv_score= cross_val_score(rf_tuned,X_scaled,y,cv=i).mean()\n",
    "    print(\"the cv score for\",i,\"fold:\", round(cv_score*100,2))"
   ]
  },
  {
   "cell_type": "code",
   "execution_count": 201,
   "id": "296ea7d7",
   "metadata": {},
   "outputs": [
    {
     "name": "stdout",
     "output_type": "stream",
     "text": [
      "Best Parameters: {'algorithm': 'kd_tree', 'leaf_size': 4, 'n_neighbors': 11}\n",
      "Training Score: 81.71\n",
      "Testing Score: 81.54 \n",
      "\n",
      "++++++++++++++ CLASSIFICATION REPORT ++++++++++++++++\n",
      "              precision    recall  f1-score   support\n",
      "\n",
      "           0       0.79      0.90      0.84       105\n",
      "           1       0.86      0.72      0.78        90\n",
      "\n",
      "    accuracy                           0.82       195\n",
      "   macro avg       0.82      0.81      0.81       195\n",
      "weighted avg       0.82      0.82      0.81       195\n",
      "\n",
      "++++++++++++++ CONFUSION MATRIX ++++++++++++++++\n",
      "\n",
      " [[94 11]\n",
      " [25 65]] \n",
      "\n",
      "++++++++++++++ CROSS VALIDATION ++++++++++++++++ \n",
      "\n",
      "the cv score for 5 fold: 77.56\n",
      "the cv score for 6 fold: 78.08\n",
      "the cv score for 7 fold: 77.95\n",
      "the cv score for 8 fold: 78.08\n",
      "the cv score for 9 fold: 77.57\n"
     ]
    }
   ],
   "source": [
    "#Hyperparameter tuning of KNN Classifier using GridSearchCV.\n",
    "\n",
    "params= {\"algorithm\":[\"kd_tree\",\"brute\"],\n",
    "         \"leaf_size\": range(3,10),\n",
    "         \"n_neighbors\": [3,5,7,9,11,13]\n",
    "         }\n",
    "grd_knn= GridSearchCV(knn, param_grid=params,cv=5,n_jobs=-1)\n",
    "grd_knn.fit(x_train,y_train)\n",
    "print(\"Best Parameters:\",grd_knn.best_params_)\n",
    "\n",
    " \n",
    "# Taking the best sample split result and applying on the tuned knn model.\n",
    "\n",
    "x_train,x_test,y_train,y_test = train_test_split(X_scaled,y,test_size=0.25,random_state=7)\n",
    "\n",
    "knn_tuned =grd_knn.best_estimator_\n",
    "knn_tuned.fit(x_train, y_train)\n",
    "    \n",
    "y_pred_train = knn_tuned.predict(x_train)\n",
    "accuracy_train = accuracy_score(y_train,y_pred_train)\n",
    "print(\"Training Score:\",round(accuracy_train*100,2))\n",
    "\n",
    "y_pred= knn_tuned.predict(x_test)\n",
    "accuracy_test = accuracy_score(y_test,y_pred)\n",
    "print(\"Testing Score:\",round(accuracy_test*100,2),\"\\n\")\n",
    "\n",
    "print(\"++++++++++++++ CLASSIFICATION REPORT ++++++++++++++++\")\n",
    "print(classification_report(y_test,y_pred,digits=2))\n",
    "\n",
    "print(\"++++++++++++++ CONFUSION MATRIX ++++++++++++++++\")\n",
    "print(\"\\n\",confusion_matrix(y_test,y_pred),\"\\n\")\n",
    "\n",
    "print(\"++++++++++++++ CROSS VALIDATION ++++++++++++++++\",\"\\n\")\n",
    "for i in range(5,10):\n",
    "    cv_score= cross_val_score(knn_tuned,X_scaled,y,cv=i).mean()\n",
    "    print(\"the cv score for\",i,\"fold:\", round(cv_score*100,2))"
   ]
  },
  {
   "cell_type": "code",
   "execution_count": 203,
   "id": "b6dd4bba",
   "metadata": {},
   "outputs": [
    {
     "name": "stdout",
     "output_type": "stream",
     "text": [
      "Best Parameters: {'C': 3, 'gamma': 0.1, 'kernel': 'rbf'}\n",
      "Training Score: 81.71\n",
      "Testing Score: 81.03 \n",
      "\n",
      "++++++++++++++ CLASSIFICATION REPORT ++++++++++++++++\n",
      "              precision    recall  f1-score   support\n",
      "\n",
      "           0       0.75      0.97      0.85       105\n",
      "           1       0.95      0.62      0.75        90\n",
      "\n",
      "    accuracy                           0.81       195\n",
      "   macro avg       0.85      0.80      0.80       195\n",
      "weighted avg       0.84      0.81      0.80       195\n",
      "\n",
      "++++++++++++++ CONFUSION MATRIX ++++++++++++++++\n",
      "\n",
      " [[102   3]\n",
      " [ 34  56]] \n",
      "\n",
      "++++++++++++++ CROSS VALIDATION ++++++++++++++++ \n",
      "\n",
      "the cv score for 5 fold: 78.21\n",
      "the cv score for 6 fold: 80.13\n",
      "the cv score for 7 fold: 79.1\n",
      "the cv score for 8 fold: 79.74\n",
      "the cv score for 9 fold: 78.98\n"
     ]
    }
   ],
   "source": [
    "#Hyperparameter tuning of SVC using GridSearchCV.\n",
    "\n",
    "params= {\"C\": [1,3,5,10] ,\n",
    "         \"gamma\": [0.001,0.01,0.1,1] ,\n",
    "         \"kernel\":[\"rbf\",\"poly\"]\n",
    "        }\n",
    "grd_svc= GridSearchCV(svc, param_grid=params,cv=5,n_jobs=-1)\n",
    "grd_svc.fit(x_train,y_train)\n",
    "print(\"Best Parameters:\",grd_svc.best_params_)\n",
    "\n",
    "\n",
    "# Taking the best sample split result and applying on the tuned SVC model.\n",
    "\n",
    "x_train,x_test,y_train,y_test = train_test_split(X_scaled,y,test_size=0.25,random_state=7)\n",
    "svc_tuned =grd_svc.best_estimator_\n",
    "svc_tuned.fit(x_train, y_train)\n",
    "    \n",
    "y_pred_train = svc_tuned.predict(x_train)\n",
    "accuracy_train = accuracy_score(y_train,y_pred_train)\n",
    "print(\"Training Score:\",round(accuracy_train*100,2))\n",
    "\n",
    "y_pred= svc_tuned.predict(x_test)\n",
    "accuracy_test = accuracy_score(y_test,y_pred)\n",
    "print(\"Testing Score:\",round(accuracy_test*100,2),\"\\n\")\n",
    "\n",
    "print(\"++++++++++++++ CLASSIFICATION REPORT ++++++++++++++++\")\n",
    "print(classification_report(y_test,y_pred,digits=2))\n",
    "\n",
    "print(\"++++++++++++++ CONFUSION MATRIX ++++++++++++++++\")\n",
    "print(\"\\n\",confusion_matrix(y_test,y_pred),\"\\n\")\n",
    "\n",
    "print(\"++++++++++++++ CROSS VALIDATION ++++++++++++++++\",\"\\n\")\n",
    "for i in range(5,10):\n",
    "    cv_score= cross_val_score(svc_tuned,X_scaled,y,cv=i).mean()\n",
    "    print(\"the cv score for\",i,\"fold:\", round(cv_score*100,2))"
   ]
  },
  {
   "cell_type": "code",
   "execution_count": 207,
   "id": "25199faa",
   "metadata": {},
   "outputs": [
    {
     "data": {
      "image/png": "[encoded data removed]",
      "text/plain": [
       "<Figure size 432x288 with 1 Axes>"
      ]
     },
     "metadata": {
      "needs_background": "light"
     },
     "output_type": "display_data"
    }
   ],
   "source": [
    "# plotting the roc-auc curves for testing data.\n",
    "\n",
    "disp_test= plot_roc_curve(rf_tuned,x_test,y_test)\n",
    "plot_roc_curve(knn_tuned,x_test,y_test, ax=disp_test.ax_)\n",
    "plot_roc_curve(svc_tuned,x_test,y_test, ax=disp_test.ax_)\n",
    "plt.show()"
   ]
  },
  {
   "cell_type": "code",
   "execution_count": 208,
   "id": "4d23f388",
   "metadata": {},
   "outputs": [],
   "source": [
    "# Random-Forests Algorithm is giving the highest AUC score.\n",
    "# saving the model using pickle.\n",
    "import pickle \n",
    "\n",
    "Titanic= \"Titanic_final_model.pickle\"\n",
    "pickle.dump(rf_tuned, open(Titanic,'wb'))"
   ]
  },
  {
   "cell_type": "code",
   "execution_count": null,
   "id": "759cdd50",
   "metadata": {},
   "outputs": [],
   "source": []
  }
 ],
 "metadata": {
  "kernelspec": {
   "display_name": "Python 3 (ipykernel)",
   "language": "python",
   "name": "python3"
  },
  "language_info": {
   "codemirror_mode": {
    "name": "ipython",
    "version": 3
   },
   "file_extension": ".py",
   "mimetype": "text/x-python",
   "name": "python",
   "nbconvert_exporter": "python",
   "pygments_lexer": "ipython3",
   "version": "3.9.7"
  }
 },
 "nbformat": 4,
 "nbformat_minor": 5
}
