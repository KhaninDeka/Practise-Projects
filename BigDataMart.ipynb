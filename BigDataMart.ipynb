{
 "cells": [
  {
   "cell_type": "code",
   "execution_count": 169,
   "id": "df2ac5b0",
   "metadata": {},
   "outputs": [],
   "source": [
    "# importing necessary libraries.\n",
    "\n",
    "import pandas as pd\n",
    "import numpy as np\n",
    "import matplotlib.pyplot as plt\n",
    "import seaborn as sns\n",
    "%matplotlib inline\n",
    "from sklearn.metrics import r2_score, mean_absolute_error, mean_squared_error\n",
    "from sklearn.model_selection import train_test_split\n",
    "\n",
    "import warnings\n",
    "warnings.filterwarnings(\"ignore\")"
   ]
  },
  {
   "cell_type": "code",
   "execution_count": 170,
   "id": "59245625",
   "metadata": {},
   "outputs": [
    {
     "data": {
      "text/html": [
       "<div>\n",
       "<style scoped>\n",
       "    .dataframe tbody tr th:only-of-type {\n",
       "        vertical-align: middle;\n",
       "    }\n",
       "\n",
       "    .dataframe tbody tr th {\n",
       "        vertical-align: top;\n",
       "    }\n",
       "\n",
       "    .dataframe thead th {\n",
       "        text-align: right;\n",
       "    }\n",
       "</style>\n",
       "<table border=\"1\" class=\"dataframe\">\n",
       "  <thead>\n",
       "    <tr style=\"text-align: right;\">\n",
       "      <th></th>\n",
       "      <th>Item_Identifier</th>\n",
       "      <th>Item_Weight</th>\n",
       "      <th>Item_Fat_Content</th>\n",
       "      <th>Item_Visibility</th>\n",
       "      <th>Item_Type</th>\n",
       "      <th>Item_MRP</th>\n",
       "      <th>Outlet_Identifier</th>\n",
       "      <th>Outlet_Establishment_Year</th>\n",
       "      <th>Outlet_Size</th>\n",
       "      <th>Outlet_Location_Type</th>\n",
       "      <th>Outlet_Type</th>\n",
       "      <th>Item_Outlet_Sales</th>\n",
       "    </tr>\n",
       "  </thead>\n",
       "  <tbody>\n",
       "    <tr>\n",
       "      <th>0</th>\n",
       "      <td>FDA15</td>\n",
       "      <td>9.30</td>\n",
       "      <td>Low Fat</td>\n",
       "      <td>0.016047</td>\n",
       "      <td>Dairy</td>\n",
       "      <td>249.8092</td>\n",
       "      <td>OUT049</td>\n",
       "      <td>1999</td>\n",
       "      <td>Medium</td>\n",
       "      <td>Tier 1</td>\n",
       "      <td>Supermarket Type1</td>\n",
       "      <td>3735.1380</td>\n",
       "    </tr>\n",
       "    <tr>\n",
       "      <th>1</th>\n",
       "      <td>DRC01</td>\n",
       "      <td>5.92</td>\n",
       "      <td>Regular</td>\n",
       "      <td>0.019278</td>\n",
       "      <td>Soft Drinks</td>\n",
       "      <td>48.2692</td>\n",
       "      <td>OUT018</td>\n",
       "      <td>2009</td>\n",
       "      <td>Medium</td>\n",
       "      <td>Tier 3</td>\n",
       "      <td>Supermarket Type2</td>\n",
       "      <td>443.4228</td>\n",
       "    </tr>\n",
       "    <tr>\n",
       "      <th>2</th>\n",
       "      <td>FDN15</td>\n",
       "      <td>17.50</td>\n",
       "      <td>Low Fat</td>\n",
       "      <td>0.016760</td>\n",
       "      <td>Meat</td>\n",
       "      <td>141.6180</td>\n",
       "      <td>OUT049</td>\n",
       "      <td>1999</td>\n",
       "      <td>Medium</td>\n",
       "      <td>Tier 1</td>\n",
       "      <td>Supermarket Type1</td>\n",
       "      <td>2097.2700</td>\n",
       "    </tr>\n",
       "    <tr>\n",
       "      <th>3</th>\n",
       "      <td>FDX07</td>\n",
       "      <td>19.20</td>\n",
       "      <td>Regular</td>\n",
       "      <td>0.000000</td>\n",
       "      <td>Fruits and Vegetables</td>\n",
       "      <td>182.0950</td>\n",
       "      <td>OUT010</td>\n",
       "      <td>1998</td>\n",
       "      <td>NaN</td>\n",
       "      <td>Tier 3</td>\n",
       "      <td>Grocery Store</td>\n",
       "      <td>732.3800</td>\n",
       "    </tr>\n",
       "    <tr>\n",
       "      <th>4</th>\n",
       "      <td>NCD19</td>\n",
       "      <td>8.93</td>\n",
       "      <td>Low Fat</td>\n",
       "      <td>0.000000</td>\n",
       "      <td>Household</td>\n",
       "      <td>53.8614</td>\n",
       "      <td>OUT013</td>\n",
       "      <td>1987</td>\n",
       "      <td>High</td>\n",
       "      <td>Tier 3</td>\n",
       "      <td>Supermarket Type1</td>\n",
       "      <td>994.7052</td>\n",
       "    </tr>\n",
       "  </tbody>\n",
       "</table>\n",
       "</div>"
      ],
      "text/plain": [
       "  Item_Identifier  Item_Weight Item_Fat_Content  Item_Visibility  \\\n",
       "0           FDA15         9.30          Low Fat         0.016047   \n",
       "1           DRC01         5.92          Regular         0.019278   \n",
       "2           FDN15        17.50          Low Fat         0.016760   \n",
       "3           FDX07        19.20          Regular         0.000000   \n",
       "4           NCD19         8.93          Low Fat         0.000000   \n",
       "\n",
       "               Item_Type  Item_MRP Outlet_Identifier  \\\n",
       "0                  Dairy  249.8092            OUT049   \n",
       "1            Soft Drinks   48.2692            OUT018   \n",
       "2                   Meat  141.6180            OUT049   \n",
       "3  Fruits and Vegetables  182.0950            OUT010   \n",
       "4              Household   53.8614            OUT013   \n",
       "\n",
       "   Outlet_Establishment_Year Outlet_Size Outlet_Location_Type  \\\n",
       "0                       1999      Medium               Tier 1   \n",
       "1                       2009      Medium               Tier 3   \n",
       "2                       1999      Medium               Tier 1   \n",
       "3                       1998         NaN               Tier 3   \n",
       "4                       1987        High               Tier 3   \n",
       "\n",
       "         Outlet_Type  Item_Outlet_Sales  \n",
       "0  Supermarket Type1          3735.1380  \n",
       "1  Supermarket Type2           443.4228  \n",
       "2  Supermarket Type1          2097.2700  \n",
       "3      Grocery Store           732.3800  \n",
       "4  Supermarket Type1           994.7052  "
      ]
     },
     "execution_count": 170,
     "metadata": {},
     "output_type": "execute_result"
    }
   ],
   "source": [
    "# getting the data.\n",
    "df= pd.read_csv(\"https://raw.githubusercontent.com/dsrscientist/bigdatamart_rep/master/bigdatamart_Train.csv\")\n",
    "df.head()"
   ]
  },
  {
   "cell_type": "code",
   "execution_count": 171,
   "id": "2c503f7c",
   "metadata": {},
   "outputs": [
    {
     "name": "stdout",
     "output_type": "stream",
     "text": [
      "<class 'pandas.core.frame.DataFrame'>\n",
      "RangeIndex: 8523 entries, 0 to 8522\n",
      "Data columns (total 12 columns):\n",
      " #   Column                     Non-Null Count  Dtype  \n",
      "---  ------                     --------------  -----  \n",
      " 0   Item_Identifier            8523 non-null   object \n",
      " 1   Item_Weight                7060 non-null   float64\n",
      " 2   Item_Fat_Content           8523 non-null   object \n",
      " 3   Item_Visibility            8523 non-null   float64\n",
      " 4   Item_Type                  8523 non-null   object \n",
      " 5   Item_MRP                   8523 non-null   float64\n",
      " 6   Outlet_Identifier          8523 non-null   object \n",
      " 7   Outlet_Establishment_Year  8523 non-null   int64  \n",
      " 8   Outlet_Size                6113 non-null   object \n",
      " 9   Outlet_Location_Type       8523 non-null   object \n",
      " 10  Outlet_Type                8523 non-null   object \n",
      " 11  Item_Outlet_Sales          8523 non-null   float64\n",
      "dtypes: float64(4), int64(1), object(7)\n",
      "memory usage: 799.2+ KB\n"
     ]
    }
   ],
   "source": [
    "# getting the basic information about the columns and their data-type.\n",
    "df.info()"
   ]
  },
  {
   "cell_type": "code",
   "execution_count": 172,
   "id": "cee49f40",
   "metadata": {},
   "outputs": [],
   "source": [
    "# dropping the columns with nominal data.\n",
    "df= df.drop(columns=[\"Item_Identifier\",\"Outlet_Identifier\"])"
   ]
  },
  {
   "cell_type": "code",
   "execution_count": 173,
   "id": "fa217f14",
   "metadata": {},
   "outputs": [
    {
     "data": {
      "text/plain": [
       "False    8523\n",
       "dtype: int64"
      ]
     },
     "execution_count": 173,
     "metadata": {},
     "output_type": "execute_result"
    }
   ],
   "source": [
    "# checking for duplicates.\n",
    "df.duplicated().value_counts()"
   ]
  },
  {
   "cell_type": "code",
   "execution_count": 174,
   "id": "5cac3d76",
   "metadata": {},
   "outputs": [
    {
     "data": {
      "text/plain": [
       "Item_Weight                  1463\n",
       "Item_Fat_Content                0\n",
       "Item_Visibility                 0\n",
       "Item_Type                       0\n",
       "Item_MRP                        0\n",
       "Outlet_Establishment_Year       0\n",
       "Outlet_Size                  2410\n",
       "Outlet_Location_Type            0\n",
       "Outlet_Type                     0\n",
       "Item_Outlet_Sales               0\n",
       "dtype: int64"
      ]
     },
     "execution_count": 174,
     "metadata": {},
     "output_type": "execute_result"
    }
   ],
   "source": [
    "# checking for null values.\n",
    "df.isnull().sum()"
   ]
  },
  {
   "cell_type": "code",
   "execution_count": 175,
   "id": "da5af991",
   "metadata": {},
   "outputs": [],
   "source": [
    "# filling the null values with mean of the column.\n",
    "df[\"Item_Weight\"]= df[\"Item_Weight\"].fillna(df[\"Item_Weight\"].mean())\n",
    "\n",
    "# filling the null values with mode of the column.\n",
    "df[\"Outlet_Size\"]= df[\"Outlet_Size\"].fillna(df[\"Outlet_Size\"].mode()[0])"
   ]
  },
  {
   "cell_type": "code",
   "execution_count": 176,
   "id": "26b2ca56",
   "metadata": {},
   "outputs": [
    {
     "data": {
      "text/plain": [
       "Item_Weight                  0\n",
       "Item_Fat_Content             0\n",
       "Item_Visibility              0\n",
       "Item_Type                    0\n",
       "Item_MRP                     0\n",
       "Outlet_Establishment_Year    0\n",
       "Outlet_Size                  0\n",
       "Outlet_Location_Type         0\n",
       "Outlet_Type                  0\n",
       "Item_Outlet_Sales            0\n",
       "dtype: int64"
      ]
     },
     "execution_count": 176,
     "metadata": {},
     "output_type": "execute_result"
    }
   ],
   "source": [
    "df.isnull().sum()"
   ]
  },
  {
   "cell_type": "code",
   "execution_count": 177,
   "id": "2f410514",
   "metadata": {},
   "outputs": [
    {
     "data": {
      "text/plain": [
       "Low Fat    5089\n",
       "Regular    2889\n",
       "LF          316\n",
       "reg         117\n",
       "low fat     112\n",
       "Name: Item_Fat_Content, dtype: int64"
      ]
     },
     "execution_count": 177,
     "metadata": {},
     "output_type": "execute_result"
    }
   ],
   "source": [
    "# checking the different categories in \"Item_Fat_Content\" column.\n",
    "df[\"Item_Fat_Content\"].value_counts()"
   ]
  },
  {
   "cell_type": "code",
   "execution_count": 178,
   "id": "705cbdb8",
   "metadata": {},
   "outputs": [],
   "source": [
    "# Looks like some values of \"Low Fat\" and \"Regular\" are present in a different way.\n",
    "# So lets replace them with \"Low Fat\" and \"Regular\" values to bring uniformity in the data.\n",
    "\n",
    "df[\"Item_Fat_Content\"]= df[\"Item_Fat_Content\"].replace(\"LF\",\"Low Fat\")\n",
    "df[\"Item_Fat_Content\"]= df[\"Item_Fat_Content\"].replace(\"reg\",\"Regular\")\n",
    "df[\"Item_Fat_Content\"]= df[\"Item_Fat_Content\"].replace(\"low fat\",\"Low Fat\")"
   ]
  },
  {
   "cell_type": "code",
   "execution_count": 179,
   "id": "8592371f",
   "metadata": {},
   "outputs": [
    {
     "data": {
      "text/plain": [
       "Low Fat    5517\n",
       "Regular    3006\n",
       "Name: Item_Fat_Content, dtype: int64"
      ]
     },
     "execution_count": 179,
     "metadata": {},
     "output_type": "execute_result"
    }
   ],
   "source": [
    "# checking the column after replacing.\n",
    "df[\"Item_Fat_Content\"].value_counts()"
   ]
  },
  {
   "cell_type": "code",
   "execution_count": 180,
   "id": "36410915",
   "metadata": {},
   "outputs": [
    {
     "data": {
      "text/plain": [
       "Fruits and Vegetables    1232\n",
       "Snack Foods              1200\n",
       "Household                 910\n",
       "Frozen Foods              856\n",
       "Dairy                     682\n",
       "Canned                    649\n",
       "Baking Goods              648\n",
       "Health and Hygiene        520\n",
       "Soft Drinks               445\n",
       "Meat                      425\n",
       "Breads                    251\n",
       "Hard Drinks               214\n",
       "Others                    169\n",
       "Starchy Foods             148\n",
       "Breakfast                 110\n",
       "Seafood                    64\n",
       "Name: Item_Type, dtype: int64"
      ]
     },
     "execution_count": 180,
     "metadata": {},
     "output_type": "execute_result"
    }
   ],
   "source": [
    "# checking the different categories in \"Item_Type\" column.\n",
    "df[\"Item_Type\"].value_counts()"
   ]
  },
  {
   "cell_type": "code",
   "execution_count": 181,
   "id": "1889d3fb",
   "metadata": {},
   "outputs": [
    {
     "data": {
      "text/plain": [
       "Medium    5203\n",
       "Small     2388\n",
       "High       932\n",
       "Name: Outlet_Size, dtype: int64"
      ]
     },
     "execution_count": 181,
     "metadata": {},
     "output_type": "execute_result"
    }
   ],
   "source": [
    "# checking the different categories in \"Outlet_Size\" column.\n",
    "df[\"Outlet_Size\"].value_counts()"
   ]
  },
  {
   "cell_type": "code",
   "execution_count": 182,
   "id": "7e5b8f48",
   "metadata": {},
   "outputs": [
    {
     "data": {
      "text/plain": [
       "Tier 3    3350\n",
       "Tier 2    2785\n",
       "Tier 1    2388\n",
       "Name: Outlet_Location_Type, dtype: int64"
      ]
     },
     "execution_count": 182,
     "metadata": {},
     "output_type": "execute_result"
    }
   ],
   "source": [
    "# checking the different categories in \"Outlet_Location_Type\" column.\n",
    "df[\"Outlet_Location_Type\"].value_counts()"
   ]
  },
  {
   "cell_type": "code",
   "execution_count": 183,
   "id": "7dbb4635",
   "metadata": {},
   "outputs": [
    {
     "data": {
      "text/plain": [
       "Supermarket Type1    5577\n",
       "Grocery Store        1083\n",
       "Supermarket Type3     935\n",
       "Supermarket Type2     928\n",
       "Name: Outlet_Type, dtype: int64"
      ]
     },
     "execution_count": 183,
     "metadata": {},
     "output_type": "execute_result"
    }
   ],
   "source": [
    "# checking the different categories in \"Outlet_Type\" column.\n",
    "df[\"Outlet_Type\"].value_counts()"
   ]
  },
  {
   "cell_type": "code",
   "execution_count": 184,
   "id": "16377726",
   "metadata": {},
   "outputs": [
    {
     "data": {
      "text/plain": [
       "<AxesSubplot:xlabel='Item_Fat_Content', ylabel='Item_Outlet_Sales'>"
      ]
     },
     "execution_count": 184,
     "metadata": {},
     "output_type": "execute_result"
    },
    {
     "data": {
      "image/png": "[encoded data removed]",
      "text/plain": [
       "<Figure size 432x288 with 1 Axes>"
      ]
     },
     "metadata": {
      "needs_background": "light"
     },
     "output_type": "display_data"
    }
   ],
   "source": [
    "# Scatter-plot of \"Item_Fat_Content\" vs our target variable.\n",
    "sns.scatterplot(x=df[\"Item_Fat_Content\"],y=df[\"Item_Outlet_Sales\"])"
   ]
  },
  {
   "cell_type": "code",
   "execution_count": 185,
   "id": "f7f7d25a",
   "metadata": {},
   "outputs": [
    {
     "data": {
      "image/png": "[encoded data removed]",
      "text/plain": [
       "<Figure size 864x504 with 1 Axes>"
      ]
     },
     "metadata": {
      "needs_background": "light"
     },
     "output_type": "display_data"
    }
   ],
   "source": [
    "# Scatter-plot of \"Item_Type\" vs our target variable.\n",
    "plt.figure(figsize=(12,7))\n",
    "sns.scatterplot(y=df[\"Item_Type\"],x=df[\"Item_Outlet_Sales\"])\n",
    "plt.show()"
   ]
  },
  {
   "cell_type": "code",
   "execution_count": 186,
   "id": "53f8ff1a",
   "metadata": {},
   "outputs": [
    {
     "data": {
      "text/plain": [
       "<AxesSubplot:xlabel='Outlet_Size', ylabel='Item_Outlet_Sales'>"
      ]
     },
     "execution_count": 186,
     "metadata": {},
     "output_type": "execute_result"
    },
    {
     "data": {
      "image/png": "[encoded data removed]",
      "text/plain": [
       "<Figure size 432x288 with 1 Axes>"
      ]
     },
     "metadata": {
      "needs_background": "light"
     },
     "output_type": "display_data"
    }
   ],
   "source": [
    "# Scatter-plot of \"Outlet_Size\" vs our target variable.\n",
    "sns.scatterplot(x=df[\"Outlet_Size\"],y=df[\"Item_Outlet_Sales\"])"
   ]
  },
  {
   "cell_type": "code",
   "execution_count": 187,
   "id": "e581de28",
   "metadata": {},
   "outputs": [
    {
     "data": {
      "text/plain": [
       "<AxesSubplot:xlabel='Item_MRP', ylabel='Item_Outlet_Sales'>"
      ]
     },
     "execution_count": 187,
     "metadata": {},
     "output_type": "execute_result"
    },
    {
     "data": {
      "image/png": "[encoded data removed]",
      "text/plain": [
       "<Figure size 432x288 with 1 Axes>"
      ]
     },
     "metadata": {
      "needs_background": "light"
     },
     "output_type": "display_data"
    }
   ],
   "source": [
    "# Scatter-plot of \"Item_MRP\" vs our target variable.\n",
    "sns.scatterplot(x=df[\"Item_MRP\"],y=df[\"Item_Outlet_Sales\"])"
   ]
  },
  {
   "cell_type": "code",
   "execution_count": 188,
   "id": "ae572617",
   "metadata": {},
   "outputs": [],
   "source": [
    "# Using Label-Encoder to encode our categorical columns into numerical format so that regression can be applied.\n",
    "from sklearn.preprocessing import LabelEncoder\n",
    "enc= LabelEncoder()\n",
    "\n",
    "df[\"Item_Fat_Content\"]= enc.fit_transform(df[\"Item_Fat_Content\"])\n",
    "df[\"Item_Type\"]= enc.fit_transform(df[\"Item_Type\"])\n",
    "df[\"Outlet_Size\"]= enc.fit_transform(df[\"Outlet_Size\"])\n",
    "df[\"Outlet_Location_Type\"]= enc.fit_transform(df[\"Outlet_Location_Type\"])\n",
    "df[\"Outlet_Type\"]= enc.fit_transform(df[\"Outlet_Type\"])"
   ]
  },
  {
   "cell_type": "code",
   "execution_count": 189,
   "id": "42958413",
   "metadata": {},
   "outputs": [
    {
     "data": {
      "text/html": [
       "<div>\n",
       "<style scoped>\n",
       "    .dataframe tbody tr th:only-of-type {\n",
       "        vertical-align: middle;\n",
       "    }\n",
       "\n",
       "    .dataframe tbody tr th {\n",
       "        vertical-align: top;\n",
       "    }\n",
       "\n",
       "    .dataframe thead th {\n",
       "        text-align: right;\n",
       "    }\n",
       "</style>\n",
       "<table border=\"1\" class=\"dataframe\">\n",
       "  <thead>\n",
       "    <tr style=\"text-align: right;\">\n",
       "      <th></th>\n",
       "      <th>count</th>\n",
       "      <th>mean</th>\n",
       "      <th>std</th>\n",
       "      <th>min</th>\n",
       "      <th>25%</th>\n",
       "      <th>50%</th>\n",
       "      <th>75%</th>\n",
       "      <th>max</th>\n",
       "    </tr>\n",
       "  </thead>\n",
       "  <tbody>\n",
       "    <tr>\n",
       "      <th>Item_Weight</th>\n",
       "      <td>8523.0</td>\n",
       "      <td>12.857645</td>\n",
       "      <td>4.226124</td>\n",
       "      <td>4.555</td>\n",
       "      <td>9.310000</td>\n",
       "      <td>12.857645</td>\n",
       "      <td>16.000000</td>\n",
       "      <td>21.350000</td>\n",
       "    </tr>\n",
       "    <tr>\n",
       "      <th>Item_Fat_Content</th>\n",
       "      <td>8523.0</td>\n",
       "      <td>0.352693</td>\n",
       "      <td>0.477836</td>\n",
       "      <td>0.000</td>\n",
       "      <td>0.000000</td>\n",
       "      <td>0.000000</td>\n",
       "      <td>1.000000</td>\n",
       "      <td>1.000000</td>\n",
       "    </tr>\n",
       "    <tr>\n",
       "      <th>Item_Visibility</th>\n",
       "      <td>8523.0</td>\n",
       "      <td>0.066132</td>\n",
       "      <td>0.051598</td>\n",
       "      <td>0.000</td>\n",
       "      <td>0.026989</td>\n",
       "      <td>0.053931</td>\n",
       "      <td>0.094585</td>\n",
       "      <td>0.328391</td>\n",
       "    </tr>\n",
       "    <tr>\n",
       "      <th>Item_Type</th>\n",
       "      <td>8523.0</td>\n",
       "      <td>7.226681</td>\n",
       "      <td>4.209990</td>\n",
       "      <td>0.000</td>\n",
       "      <td>4.000000</td>\n",
       "      <td>6.000000</td>\n",
       "      <td>10.000000</td>\n",
       "      <td>15.000000</td>\n",
       "    </tr>\n",
       "    <tr>\n",
       "      <th>Item_MRP</th>\n",
       "      <td>8523.0</td>\n",
       "      <td>140.992782</td>\n",
       "      <td>62.275067</td>\n",
       "      <td>31.290</td>\n",
       "      <td>93.826500</td>\n",
       "      <td>143.012800</td>\n",
       "      <td>185.643700</td>\n",
       "      <td>266.888400</td>\n",
       "    </tr>\n",
       "    <tr>\n",
       "      <th>Outlet_Establishment_Year</th>\n",
       "      <td>8523.0</td>\n",
       "      <td>1997.831867</td>\n",
       "      <td>8.371760</td>\n",
       "      <td>1985.000</td>\n",
       "      <td>1987.000000</td>\n",
       "      <td>1999.000000</td>\n",
       "      <td>2004.000000</td>\n",
       "      <td>2009.000000</td>\n",
       "    </tr>\n",
       "    <tr>\n",
       "      <th>Outlet_Size</th>\n",
       "      <td>8523.0</td>\n",
       "      <td>1.170832</td>\n",
       "      <td>0.600327</td>\n",
       "      <td>0.000</td>\n",
       "      <td>1.000000</td>\n",
       "      <td>1.000000</td>\n",
       "      <td>2.000000</td>\n",
       "      <td>2.000000</td>\n",
       "    </tr>\n",
       "    <tr>\n",
       "      <th>Outlet_Location_Type</th>\n",
       "      <td>8523.0</td>\n",
       "      <td>1.112871</td>\n",
       "      <td>0.812757</td>\n",
       "      <td>0.000</td>\n",
       "      <td>0.000000</td>\n",
       "      <td>1.000000</td>\n",
       "      <td>2.000000</td>\n",
       "      <td>2.000000</td>\n",
       "    </tr>\n",
       "    <tr>\n",
       "      <th>Outlet_Type</th>\n",
       "      <td>8523.0</td>\n",
       "      <td>1.201220</td>\n",
       "      <td>0.796459</td>\n",
       "      <td>0.000</td>\n",
       "      <td>1.000000</td>\n",
       "      <td>1.000000</td>\n",
       "      <td>1.000000</td>\n",
       "      <td>3.000000</td>\n",
       "    </tr>\n",
       "    <tr>\n",
       "      <th>Item_Outlet_Sales</th>\n",
       "      <td>8523.0</td>\n",
       "      <td>2181.288914</td>\n",
       "      <td>1706.499616</td>\n",
       "      <td>33.290</td>\n",
       "      <td>834.247400</td>\n",
       "      <td>1794.331000</td>\n",
       "      <td>3101.296400</td>\n",
       "      <td>13086.964800</td>\n",
       "    </tr>\n",
       "  </tbody>\n",
       "</table>\n",
       "</div>"
      ],
      "text/plain": [
       "                            count         mean          std       min  \\\n",
       "Item_Weight                8523.0    12.857645     4.226124     4.555   \n",
       "Item_Fat_Content           8523.0     0.352693     0.477836     0.000   \n",
       "Item_Visibility            8523.0     0.066132     0.051598     0.000   \n",
       "Item_Type                  8523.0     7.226681     4.209990     0.000   \n",
       "Item_MRP                   8523.0   140.992782    62.275067    31.290   \n",
       "Outlet_Establishment_Year  8523.0  1997.831867     8.371760  1985.000   \n",
       "Outlet_Size                8523.0     1.170832     0.600327     0.000   \n",
       "Outlet_Location_Type       8523.0     1.112871     0.812757     0.000   \n",
       "Outlet_Type                8523.0     1.201220     0.796459     0.000   \n",
       "Item_Outlet_Sales          8523.0  2181.288914  1706.499616    33.290   \n",
       "\n",
       "                                   25%          50%          75%           max  \n",
       "Item_Weight                   9.310000    12.857645    16.000000     21.350000  \n",
       "Item_Fat_Content              0.000000     0.000000     1.000000      1.000000  \n",
       "Item_Visibility               0.026989     0.053931     0.094585      0.328391  \n",
       "Item_Type                     4.000000     6.000000    10.000000     15.000000  \n",
       "Item_MRP                     93.826500   143.012800   185.643700    266.888400  \n",
       "Outlet_Establishment_Year  1987.000000  1999.000000  2004.000000   2009.000000  \n",
       "Outlet_Size                   1.000000     1.000000     2.000000      2.000000  \n",
       "Outlet_Location_Type          0.000000     1.000000     2.000000      2.000000  \n",
       "Outlet_Type                   1.000000     1.000000     1.000000      3.000000  \n",
       "Item_Outlet_Sales           834.247400  1794.331000  3101.296400  13086.964800  "
      ]
     },
     "execution_count": 189,
     "metadata": {},
     "output_type": "execute_result"
    }
   ],
   "source": [
    "# Let's look at some of the properties of our dataset.\n",
    "df.describe().T\n",
    "\n",
    "# Observations:\n",
    "# 1. The scale of data in different columns vary a lot. Hence the data needs to be scaled.\n",
    "# 2. In the Item_Visibility\" which have continuous data, it can be seen that the standard deviation is\n",
    "#    high when we compare it with the mean. We need to check the plot and skewness.\n"
   ]
  },
  {
   "cell_type": "code",
   "execution_count": 190,
   "id": "8b0238d8",
   "metadata": {},
   "outputs": [
    {
     "data": {
      "image/png": "[encoded data removed]",
      "text/plain": [
       "<Figure size 1080x864 with 9 Axes>"
      ]
     },
     "metadata": {
      "needs_background": "light"
     },
     "output_type": "display_data"
    }
   ],
   "source": [
    "# Let's visualize the data-distribution using distplot.\n",
    "plt.figure(figsize=(15,12))\n",
    "plotnumber=1\n",
    "for column in df:\n",
    "    if plotnumber<=9:\n",
    "        ax= plt.subplot(3,3,plotnumber)\n",
    "        sns.distplot(df[column])\n",
    "        plt.xlabel(column,fontsize=15)\n",
    "    plotnumber+=1\n",
    "plt.show()"
   ]
  },
  {
   "cell_type": "code",
   "execution_count": 191,
   "id": "8dd8e3be",
   "metadata": {},
   "outputs": [
    {
     "data": {
      "text/plain": [
       "Item_Weight                  0.090561\n",
       "Item_Fat_Content             0.616705\n",
       "Item_Visibility              1.167091\n",
       "Item_Type                    0.101655\n",
       "Item_MRP                     0.127202\n",
       "Outlet_Establishment_Year   -0.396641\n",
       "Outlet_Size                 -0.087072\n",
       "Outlet_Location_Type        -0.209093\n",
       "Outlet_Type                  0.927438\n",
       "Item_Outlet_Sales            1.177531\n",
       "dtype: float64"
      ]
     },
     "execution_count": 191,
     "metadata": {},
     "output_type": "execute_result"
    }
   ],
   "source": [
    "# checking the skewness of the data for the continuous data columns.\n",
    "df.skew()\n",
    "\n",
    "# \"Item_Visibility\" has skewness."
   ]
  },
  {
   "cell_type": "code",
   "execution_count": 192,
   "id": "653f2879",
   "metadata": {},
   "outputs": [
    {
     "data": {
      "text/plain": [
       "<AxesSubplot:xlabel='Item_Visibility', ylabel='Density'>"
      ]
     },
     "execution_count": 192,
     "metadata": {},
     "output_type": "execute_result"
    },
    {
     "data": {
      "image/png": "[encoded data removed]",
      "text/plain": [
       "<Figure size 432x288 with 1 Axes>"
      ]
     },
     "metadata": {
      "needs_background": "light"
     },
     "output_type": "display_data"
    }
   ],
   "source": [
    "# Dist-plot of \"Item_Visibility\" column.\n",
    "sns.distplot(df[\"Item_Visibility\"])"
   ]
  },
  {
   "cell_type": "code",
   "execution_count": 193,
   "id": "96243687",
   "metadata": {},
   "outputs": [
    {
     "data": {
      "text/plain": [
       "<AxesSubplot:xlabel='Item_Visibility'>"
      ]
     },
     "execution_count": 193,
     "metadata": {},
     "output_type": "execute_result"
    },
    {
     "data": {
      "image/png": "[encoded data removed]",
      "text/plain": [
       "<Figure size 432x288 with 1 Axes>"
      ]
     },
     "metadata": {
      "needs_background": "light"
     },
     "output_type": "display_data"
    }
   ],
   "source": [
    "# Box-plot of \"Item_Visibility\" column.\n",
    "sns.boxplot(df[\"Item_Visibility\"])\n",
    "\n",
    "# It can be seen that there are some outliers in the data."
   ]
  },
  {
   "cell_type": "code",
   "execution_count": 194,
   "id": "46f8468c",
   "metadata": {},
   "outputs": [
    {
     "data": {
      "text/plain": [
       "(8379, 10)"
      ]
     },
     "execution_count": 194,
     "metadata": {},
     "output_type": "execute_result"
    }
   ],
   "source": [
    "# Let's remove the outliers using IQR method.\n",
    "percentile25 = df['Item_Visibility'].quantile(0.25)\n",
    "percentile75 = df['Item_Visibility'].quantile(0.75)\n",
    "iqr= percentile75-percentile25\n",
    "upper_limit = percentile75 + 1.5 * iqr\n",
    "lower_limit = percentile25 - 1.5 * iqr\n",
    "df = df[df['Item_Visibility'] < upper_limit]\n",
    "df = df[df['Item_Visibility'] > lower_limit]\n",
    "\n",
    "df.shape"
   ]
  },
  {
   "cell_type": "code",
   "execution_count": 195,
   "id": "546d6929",
   "metadata": {},
   "outputs": [
    {
     "name": "stdout",
     "output_type": "stream",
     "text": [
      "Skewness: 0.7381530535625506\n"
     ]
    },
    {
     "data": {
      "image/png": "[encoded data removed]",
      "text/plain": [
       "<Figure size 432x288 with 1 Axes>"
      ]
     },
     "metadata": {
      "needs_background": "light"
     },
     "output_type": "display_data"
    }
   ],
   "source": [
    "# Let's check the skewness and distribution now.\n",
    "sns.distplot(df[\"Item_Visibility\"])\n",
    "print(\"Skewness:\",df[\"Item_Visibility\"].skew())\n",
    "\n",
    "# Skewness still there."
   ]
  },
  {
   "cell_type": "code",
   "execution_count": 196,
   "id": "9a496d9d",
   "metadata": {},
   "outputs": [],
   "source": [
    "# Let's apply power-transformation on the \"Item_Visibility\" column.\n",
    "from sklearn.preprocessing import PowerTransformer\n",
    "\n",
    "pt= PowerTransformer(method=\"yeo-johnson\")\n",
    "df[\"Item_Visibility\"]= pt.fit_transform(df[[\"Item_Visibility\"]])"
   ]
  },
  {
   "cell_type": "code",
   "execution_count": 197,
   "id": "1b60f70b",
   "metadata": {},
   "outputs": [
    {
     "name": "stdout",
     "output_type": "stream",
     "text": [
      "Skewness: 0.11175901528482418\n"
     ]
    },
    {
     "data": {
      "image/png": "[encoded data removed]",
      "text/plain": [
       "<Figure size 432x288 with 1 Axes>"
      ]
     },
     "metadata": {
      "needs_background": "light"
     },
     "output_type": "display_data"
    }
   ],
   "source": [
    "# Let's check the skewness and distribution now.\n",
    "sns.distplot(df[\"Item_Visibility\"])\n",
    "print(\"Skewness:\",df[\"Item_Visibility\"].skew())\n",
    "\n",
    "# Skewness has come down to an acceptable level."
   ]
  },
  {
   "cell_type": "code",
   "execution_count": 198,
   "id": "0af9d40c",
   "metadata": {},
   "outputs": [],
   "source": [
    "# Let's check for outliers in other continuous data columns."
   ]
  },
  {
   "cell_type": "code",
   "execution_count": 199,
   "id": "470fb776",
   "metadata": {},
   "outputs": [
    {
     "data": {
      "text/plain": [
       "<AxesSubplot:xlabel='Item_Weight'>"
      ]
     },
     "execution_count": 199,
     "metadata": {},
     "output_type": "execute_result"
    },
    {
     "data": {
      "image/png": "[encoded data removed]",
      "text/plain": [
       "<Figure size 432x288 with 1 Axes>"
      ]
     },
     "metadata": {
      "needs_background": "light"
     },
     "output_type": "display_data"
    }
   ],
   "source": [
    "# Box-plot of \"Item_Weight\" column. \n",
    "sns.boxplot(df[\"Item_Weight\"])\n",
    "\n",
    "# No outliers can be seen."
   ]
  },
  {
   "cell_type": "code",
   "execution_count": 200,
   "id": "3548b50b",
   "metadata": {},
   "outputs": [
    {
     "data": {
      "text/plain": [
       "<AxesSubplot:xlabel='Item_MRP'>"
      ]
     },
     "execution_count": 200,
     "metadata": {},
     "output_type": "execute_result"
    },
    {
     "data": {
      "image/png": "[encoded data removed]",
      "text/plain": [
       "<Figure size 432x288 with 1 Axes>"
      ]
     },
     "metadata": {
      "needs_background": "light"
     },
     "output_type": "display_data"
    }
   ],
   "source": [
    "# Box-plot of \"Item_MRP\" column. \n",
    "sns.boxplot(df[\"Item_MRP\"])\n",
    "\n",
    "# No outliers can be seen."
   ]
  },
  {
   "cell_type": "code",
   "execution_count": 201,
   "id": "a6ea3c4a",
   "metadata": {},
   "outputs": [],
   "source": [
    "# Lets check for correlation among the columns now."
   ]
  },
  {
   "cell_type": "code",
   "execution_count": 202,
   "id": "d414c999",
   "metadata": {},
   "outputs": [
    {
     "data": {
      "text/html": [
       "<div>\n",
       "<style scoped>\n",
       "    .dataframe tbody tr th:only-of-type {\n",
       "        vertical-align: middle;\n",
       "    }\n",
       "\n",
       "    .dataframe tbody tr th {\n",
       "        vertical-align: top;\n",
       "    }\n",
       "\n",
       "    .dataframe thead th {\n",
       "        text-align: right;\n",
       "    }\n",
       "</style>\n",
       "<table border=\"1\" class=\"dataframe\">\n",
       "  <thead>\n",
       "    <tr style=\"text-align: right;\">\n",
       "      <th></th>\n",
       "      <th>Item_Weight</th>\n",
       "      <th>Item_Fat_Content</th>\n",
       "      <th>Item_Visibility</th>\n",
       "      <th>Item_Type</th>\n",
       "      <th>Item_MRP</th>\n",
       "      <th>Outlet_Establishment_Year</th>\n",
       "      <th>Outlet_Size</th>\n",
       "      <th>Outlet_Location_Type</th>\n",
       "      <th>Outlet_Type</th>\n",
       "      <th>Item_Outlet_Sales</th>\n",
       "    </tr>\n",
       "  </thead>\n",
       "  <tbody>\n",
       "    <tr>\n",
       "      <th>Item_Weight</th>\n",
       "      <td>1.000000</td>\n",
       "      <td>-0.021636</td>\n",
       "      <td>-0.008006</td>\n",
       "      <td>0.027880</td>\n",
       "      <td>0.025431</td>\n",
       "      <td>-0.008421</td>\n",
       "      <td>-0.007788</td>\n",
       "      <td>0.006004</td>\n",
       "      <td>-0.003196</td>\n",
       "      <td>0.009691</td>\n",
       "    </tr>\n",
       "    <tr>\n",
       "      <th>Item_Fat_Content</th>\n",
       "      <td>-0.021636</td>\n",
       "      <td>1.000000</td>\n",
       "      <td>0.048850</td>\n",
       "      <td>-0.139943</td>\n",
       "      <td>0.008048</td>\n",
       "      <td>0.003918</td>\n",
       "      <td>-0.000838</td>\n",
       "      <td>-0.002739</td>\n",
       "      <td>0.005449</td>\n",
       "      <td>0.021670</td>\n",
       "    </tr>\n",
       "    <tr>\n",
       "      <th>Item_Visibility</th>\n",
       "      <td>-0.008006</td>\n",
       "      <td>0.048850</td>\n",
       "      <td>1.000000</td>\n",
       "      <td>-0.039549</td>\n",
       "      <td>0.003336</td>\n",
       "      <td>-0.025265</td>\n",
       "      <td>0.032893</td>\n",
       "      <td>-0.012944</td>\n",
       "      <td>-0.087120</td>\n",
       "      <td>-0.064705</td>\n",
       "    </tr>\n",
       "    <tr>\n",
       "      <th>Item_Type</th>\n",
       "      <td>0.027880</td>\n",
       "      <td>-0.139943</td>\n",
       "      <td>-0.039549</td>\n",
       "      <td>1.000000</td>\n",
       "      <td>0.029461</td>\n",
       "      <td>0.004399</td>\n",
       "      <td>-0.001519</td>\n",
       "      <td>0.003488</td>\n",
       "      <td>0.001135</td>\n",
       "      <td>0.016017</td>\n",
       "    </tr>\n",
       "    <tr>\n",
       "      <th>Item_MRP</th>\n",
       "      <td>0.025431</td>\n",
       "      <td>0.008048</td>\n",
       "      <td>0.003336</td>\n",
       "      <td>0.029461</td>\n",
       "      <td>1.000000</td>\n",
       "      <td>0.006896</td>\n",
       "      <td>0.004368</td>\n",
       "      <td>0.002638</td>\n",
       "      <td>-0.001426</td>\n",
       "      <td>0.577367</td>\n",
       "    </tr>\n",
       "    <tr>\n",
       "      <th>Outlet_Establishment_Year</th>\n",
       "      <td>-0.008421</td>\n",
       "      <td>0.003918</td>\n",
       "      <td>-0.025265</td>\n",
       "      <td>0.004399</td>\n",
       "      <td>0.006896</td>\n",
       "      <td>1.000000</td>\n",
       "      <td>0.216979</td>\n",
       "      <td>-0.111056</td>\n",
       "      <td>-0.147786</td>\n",
       "      <td>-0.065382</td>\n",
       "    </tr>\n",
       "    <tr>\n",
       "      <th>Outlet_Size</th>\n",
       "      <td>-0.007788</td>\n",
       "      <td>-0.000838</td>\n",
       "      <td>0.032893</td>\n",
       "      <td>-0.001519</td>\n",
       "      <td>0.004368</td>\n",
       "      <td>0.216979</td>\n",
       "      <td>1.000000</td>\n",
       "      <td>-0.608219</td>\n",
       "      <td>-0.191238</td>\n",
       "      <td>-0.076552</td>\n",
       "    </tr>\n",
       "    <tr>\n",
       "      <th>Outlet_Location_Type</th>\n",
       "      <td>0.006004</td>\n",
       "      <td>-0.002739</td>\n",
       "      <td>-0.012944</td>\n",
       "      <td>0.003488</td>\n",
       "      <td>0.002638</td>\n",
       "      <td>-0.111056</td>\n",
       "      <td>-0.608219</td>\n",
       "      <td>1.000000</td>\n",
       "      <td>0.477017</td>\n",
       "      <td>0.087446</td>\n",
       "    </tr>\n",
       "    <tr>\n",
       "      <th>Outlet_Type</th>\n",
       "      <td>-0.003196</td>\n",
       "      <td>0.005449</td>\n",
       "      <td>-0.087120</td>\n",
       "      <td>0.001135</td>\n",
       "      <td>-0.001426</td>\n",
       "      <td>-0.147786</td>\n",
       "      <td>-0.191238</td>\n",
       "      <td>0.477017</td>\n",
       "      <td>1.000000</td>\n",
       "      <td>0.385038</td>\n",
       "    </tr>\n",
       "    <tr>\n",
       "      <th>Item_Outlet_Sales</th>\n",
       "      <td>0.009691</td>\n",
       "      <td>0.021670</td>\n",
       "      <td>-0.064705</td>\n",
       "      <td>0.016017</td>\n",
       "      <td>0.577367</td>\n",
       "      <td>-0.065382</td>\n",
       "      <td>-0.076552</td>\n",
       "      <td>0.087446</td>\n",
       "      <td>0.385038</td>\n",
       "      <td>1.000000</td>\n",
       "    </tr>\n",
       "  </tbody>\n",
       "</table>\n",
       "</div>"
      ],
      "text/plain": [
       "                           Item_Weight  Item_Fat_Content  Item_Visibility  \\\n",
       "Item_Weight                   1.000000         -0.021636        -0.008006   \n",
       "Item_Fat_Content             -0.021636          1.000000         0.048850   \n",
       "Item_Visibility              -0.008006          0.048850         1.000000   \n",
       "Item_Type                     0.027880         -0.139943        -0.039549   \n",
       "Item_MRP                      0.025431          0.008048         0.003336   \n",
       "Outlet_Establishment_Year    -0.008421          0.003918        -0.025265   \n",
       "Outlet_Size                  -0.007788         -0.000838         0.032893   \n",
       "Outlet_Location_Type          0.006004         -0.002739        -0.012944   \n",
       "Outlet_Type                  -0.003196          0.005449        -0.087120   \n",
       "Item_Outlet_Sales             0.009691          0.021670        -0.064705   \n",
       "\n",
       "                           Item_Type  Item_MRP  Outlet_Establishment_Year  \\\n",
       "Item_Weight                 0.027880  0.025431                  -0.008421   \n",
       "Item_Fat_Content           -0.139943  0.008048                   0.003918   \n",
       "Item_Visibility            -0.039549  0.003336                  -0.025265   \n",
       "Item_Type                   1.000000  0.029461                   0.004399   \n",
       "Item_MRP                    0.029461  1.000000                   0.006896   \n",
       "Outlet_Establishment_Year   0.004399  0.006896                   1.000000   \n",
       "Outlet_Size                -0.001519  0.004368                   0.216979   \n",
       "Outlet_Location_Type        0.003488  0.002638                  -0.111056   \n",
       "Outlet_Type                 0.001135 -0.001426                  -0.147786   \n",
       "Item_Outlet_Sales           0.016017  0.577367                  -0.065382   \n",
       "\n",
       "                           Outlet_Size  Outlet_Location_Type  Outlet_Type  \\\n",
       "Item_Weight                  -0.007788              0.006004    -0.003196   \n",
       "Item_Fat_Content             -0.000838             -0.002739     0.005449   \n",
       "Item_Visibility               0.032893             -0.012944    -0.087120   \n",
       "Item_Type                    -0.001519              0.003488     0.001135   \n",
       "Item_MRP                      0.004368              0.002638    -0.001426   \n",
       "Outlet_Establishment_Year     0.216979             -0.111056    -0.147786   \n",
       "Outlet_Size                   1.000000             -0.608219    -0.191238   \n",
       "Outlet_Location_Type         -0.608219              1.000000     0.477017   \n",
       "Outlet_Type                  -0.191238              0.477017     1.000000   \n",
       "Item_Outlet_Sales            -0.076552              0.087446     0.385038   \n",
       "\n",
       "                           Item_Outlet_Sales  \n",
       "Item_Weight                         0.009691  \n",
       "Item_Fat_Content                    0.021670  \n",
       "Item_Visibility                    -0.064705  \n",
       "Item_Type                           0.016017  \n",
       "Item_MRP                            0.577367  \n",
       "Outlet_Establishment_Year          -0.065382  \n",
       "Outlet_Size                        -0.076552  \n",
       "Outlet_Location_Type                0.087446  \n",
       "Outlet_Type                         0.385038  \n",
       "Item_Outlet_Sales                   1.000000  "
      ]
     },
     "execution_count": 202,
     "metadata": {},
     "output_type": "execute_result"
    }
   ],
   "source": [
    "# Correlation matrix.\n",
    "corr= df.corr()\n",
    "corr"
   ]
  },
  {
   "cell_type": "code",
   "execution_count": 203,
   "id": "459d4771",
   "metadata": {},
   "outputs": [
    {
     "data": {
      "text/plain": [
       "<AxesSubplot:>"
      ]
     },
     "execution_count": 203,
     "metadata": {},
     "output_type": "execute_result"
    },
    {
     "data": {
      "image/png": "[encoded data removed]",
      "text/plain": [
       "<Figure size 864x576 with 2 Axes>"
      ]
     },
     "metadata": {
      "needs_background": "light"
     },
     "output_type": "display_data"
    }
   ],
   "source": [
    "# Let's see the correlation heat-map.\n",
    "plt.figure(figsize=(12,8))\n",
    "sns.heatmap(corr, annot=True, cmap=\"coolwarm\")\n",
    "\n",
    "# From the heat-map no multicollinearity can be seen."
   ]
  },
  {
   "cell_type": "code",
   "execution_count": 204,
   "id": "d7a5fd07",
   "metadata": {},
   "outputs": [
    {
     "data": {
      "text/plain": [
       "Item_Weight                  0.009691\n",
       "Item_Fat_Content             0.021670\n",
       "Item_Visibility             -0.064705\n",
       "Item_Type                    0.016017\n",
       "Item_MRP                     0.577367\n",
       "Outlet_Establishment_Year   -0.065382\n",
       "Outlet_Size                 -0.076552\n",
       "Outlet_Location_Type         0.087446\n",
       "Outlet_Type                  0.385038\n",
       "Item_Outlet_Sales            1.000000\n",
       "Name: Item_Outlet_Sales, dtype: float64"
      ]
     },
     "execution_count": 204,
     "metadata": {},
     "output_type": "execute_result"
    }
   ],
   "source": [
    "# Let's check the relation of our feature columns with our target variable.\n",
    "corr[\"Item_Outlet_Sales\"]\n",
    "\n",
    "# \"Item_Weight\",\"Item_Fat_Content\",\"Item_Type\" features seem to be very weakly related with our target variable.(correlation value<0.05)"
   ]
  },
  {
   "cell_type": "code",
   "execution_count": 205,
   "id": "cb554be6",
   "metadata": {},
   "outputs": [],
   "source": [
    "# Dropping the very weakly related columns.\n",
    "df= df.drop(columns=[\"Item_Weight\",\"Item_Fat_Content\",\"Item_Type\"])\n",
    "\n",
    "# Observation:\n",
    "# Fat content in a product doesn't matter much."
   ]
  },
  {
   "cell_type": "code",
   "execution_count": 206,
   "id": "b0222b90",
   "metadata": {},
   "outputs": [
    {
     "data": {
      "text/html": [
       "<div>\n",
       "<style scoped>\n",
       "    .dataframe tbody tr th:only-of-type {\n",
       "        vertical-align: middle;\n",
       "    }\n",
       "\n",
       "    .dataframe tbody tr th {\n",
       "        vertical-align: top;\n",
       "    }\n",
       "\n",
       "    .dataframe thead th {\n",
       "        text-align: right;\n",
       "    }\n",
       "</style>\n",
       "<table border=\"1\" class=\"dataframe\">\n",
       "  <thead>\n",
       "    <tr style=\"text-align: right;\">\n",
       "      <th></th>\n",
       "      <th>Item_Visibility</th>\n",
       "      <th>Item_MRP</th>\n",
       "      <th>Outlet_Establishment_Year</th>\n",
       "      <th>Outlet_Size</th>\n",
       "      <th>Outlet_Location_Type</th>\n",
       "      <th>Outlet_Type</th>\n",
       "      <th>Item_Outlet_Sales</th>\n",
       "    </tr>\n",
       "  </thead>\n",
       "  <tbody>\n",
       "    <tr>\n",
       "      <th>0</th>\n",
       "      <td>-1.139877</td>\n",
       "      <td>249.8092</td>\n",
       "      <td>1999</td>\n",
       "      <td>1</td>\n",
       "      <td>0</td>\n",
       "      <td>1</td>\n",
       "      <td>3735.1380</td>\n",
       "    </tr>\n",
       "    <tr>\n",
       "      <th>1</th>\n",
       "      <td>-1.030228</td>\n",
       "      <td>48.2692</td>\n",
       "      <td>2009</td>\n",
       "      <td>1</td>\n",
       "      <td>2</td>\n",
       "      <td>2</td>\n",
       "      <td>443.4228</td>\n",
       "    </tr>\n",
       "    <tr>\n",
       "      <th>2</th>\n",
       "      <td>-1.115421</td>\n",
       "      <td>141.6180</td>\n",
       "      <td>1999</td>\n",
       "      <td>1</td>\n",
       "      <td>0</td>\n",
       "      <td>1</td>\n",
       "      <td>2097.2700</td>\n",
       "    </tr>\n",
       "    <tr>\n",
       "      <th>3</th>\n",
       "      <td>-1.732951</td>\n",
       "      <td>182.0950</td>\n",
       "      <td>1998</td>\n",
       "      <td>1</td>\n",
       "      <td>2</td>\n",
       "      <td>0</td>\n",
       "      <td>732.3800</td>\n",
       "    </tr>\n",
       "    <tr>\n",
       "      <th>4</th>\n",
       "      <td>-1.732951</td>\n",
       "      <td>53.8614</td>\n",
       "      <td>1987</td>\n",
       "      <td>0</td>\n",
       "      <td>2</td>\n",
       "      <td>1</td>\n",
       "      <td>994.7052</td>\n",
       "    </tr>\n",
       "  </tbody>\n",
       "</table>\n",
       "</div>"
      ],
      "text/plain": [
       "   Item_Visibility  Item_MRP  Outlet_Establishment_Year  Outlet_Size  \\\n",
       "0        -1.139877  249.8092                       1999            1   \n",
       "1        -1.030228   48.2692                       2009            1   \n",
       "2        -1.115421  141.6180                       1999            1   \n",
       "3        -1.732951  182.0950                       1998            1   \n",
       "4        -1.732951   53.8614                       1987            0   \n",
       "\n",
       "   Outlet_Location_Type  Outlet_Type  Item_Outlet_Sales  \n",
       "0                     0            1          3735.1380  \n",
       "1                     2            2           443.4228  \n",
       "2                     0            1          2097.2700  \n",
       "3                     2            0           732.3800  \n",
       "4                     2            1           994.7052  "
      ]
     },
     "execution_count": 206,
     "metadata": {},
     "output_type": "execute_result"
    }
   ],
   "source": [
    "df.head()"
   ]
  },
  {
   "cell_type": "code",
   "execution_count": 207,
   "id": "007eb968",
   "metadata": {},
   "outputs": [],
   "source": [
    "# Separating target variable and features.\n",
    "X= df.drop(columns=[\"Item_Outlet_Sales\"])\n",
    "y= df[\"Item_Outlet_Sales\"]"
   ]
  },
  {
   "cell_type": "code",
   "execution_count": 208,
   "id": "d1878dd2",
   "metadata": {},
   "outputs": [],
   "source": [
    "# Scaling the data using Standard-Scaler.\n",
    "from sklearn.preprocessing import StandardScaler\n",
    "scaler= StandardScaler()\n",
    "\n",
    "X_scaled= scaler.fit_transform(X)"
   ]
  },
  {
   "cell_type": "code",
   "execution_count": 209,
   "id": "d262e0c6",
   "metadata": {},
   "outputs": [
    {
     "name": "stdout",
     "output_type": "stream",
     "text": [
      "        vif                   Features\n",
      "0  1.013112            Item_Visibility\n",
      "1  1.000119                   Item_MRP\n",
      "2  1.073434  Outlet_Establishment_Year\n",
      "3  1.698077                Outlet_Size\n",
      "4  2.043031       Outlet_Location_Type\n",
      "5  1.361818                Outlet_Type\n"
     ]
    }
   ],
   "source": [
    "# checking the variance-inflation-factor among our features.\n",
    "from statsmodels.stats.outliers_influence import variance_inflation_factor\n",
    "\n",
    "vif = pd.DataFrame()\n",
    "vif[\"vif\"]=[variance_inflation_factor(X_scaled,i) for i in range(X_scaled.shape[1])]\n",
    "vif[\"Features\"]= X.columns\n",
    "print(vif)\n",
    "\n",
    "# All values seems to be under acceptable level."
   ]
  },
  {
   "cell_type": "code",
   "execution_count": 215,
   "id": "71cdcf85",
   "metadata": {},
   "outputs": [
    {
     "name": "stdout",
     "output_type": "stream",
     "text": [
      "Training Score for sample 0 : 53.45\n",
      "Testing Score for sample 0 : 54.16\n",
      "Mean Absolute Error 861.8\n",
      "Root Mean Squared Error 1139.78\n",
      "\n",
      "\n",
      "Training Score for sample 1 : 54.59\n",
      "Testing Score for sample 1 : 54.86\n",
      "Mean Absolute Error 883.37\n",
      "Root Mean Squared Error 1155.04\n",
      "\n",
      "\n",
      "Training Score for sample 2 : 54.81\n",
      "Testing Score for sample 2 : 49.42\n",
      "Mean Absolute Error 909.58\n",
      "Root Mean Squared Error 1197.63\n",
      "\n",
      "\n",
      "Training Score for sample 3 : 52.37\n",
      "Testing Score for sample 3 : 51.32\n",
      "Mean Absolute Error 922.0\n",
      "Root Mean Squared Error 1199.31\n",
      "\n",
      "\n",
      "Training Score for sample 4 : 53.3\n",
      "Testing Score for sample 4 : 53.73\n",
      "Mean Absolute Error 931.82\n",
      "Root Mean Squared Error 1211.73\n",
      "\n",
      "\n",
      "Training Score for sample 5 : 53.12\n",
      "Testing Score for sample 5 : 53.55\n",
      "Mean Absolute Error 862.13\n",
      "Root Mean Squared Error 1139.87\n",
      "\n",
      "\n",
      "Training Score for sample 6 : 50.51\n",
      "Testing Score for sample 6 : 47.6\n",
      "Mean Absolute Error 930.35\n",
      "Root Mean Squared Error 1195.06\n",
      "\n",
      "\n",
      "Training Score for sample 7 : 53.38\n",
      "Testing Score for sample 7 : 50.22\n",
      "Mean Absolute Error 893.14\n",
      "Root Mean Squared Error 1186.28\n",
      "\n",
      "\n",
      "Training Score for sample 8 : 49.68\n",
      "Testing Score for sample 8 : 46.02\n",
      "Mean Absolute Error 959.22\n",
      "Root Mean Squared Error 1250.19\n",
      "\n",
      "\n",
      "Training Score for sample 9 : 53.11\n",
      "Testing Score for sample 9 : 48.84\n",
      "Mean Absolute Error 928.65\n",
      "Root Mean Squared Error 1209.03\n",
      "\n",
      "\n"
     ]
    }
   ],
   "source": [
    "############################################## ADABOOST REGRESSION #############################################################\n",
    "\n",
    "from sklearn.ensemble import AdaBoostRegressor\n",
    "\n",
    "for i in range(0,10):\n",
    "    x_train,x_test,y_train,y_test = train_test_split(X_scaled,y,test_size=0.2,random_state=i)\n",
    "\n",
    "    ada = AdaBoostRegressor()\n",
    "    ada.fit(x_train, y_train)\n",
    "\n",
    "    y_pred_train = ada.predict(x_train)\n",
    "    accuracy_train = r2_score(y_train,y_pred_train)\n",
    "    print(\"Training Score for sample\",i,\":\",round(accuracy_train*100,2))\n",
    "\n",
    "    y_pred= ada.predict(x_test)\n",
    "    accuracy_test = r2_score(y_test,y_pred)\n",
    "    print(\"Testing Score for sample\",i,\":\",round(accuracy_test*100,2))\n",
    "\n",
    "    print(\"Mean Absolute Error\",round(mean_absolute_error(y_test,y_pred),2))\n",
    "    print(\"Root Mean Squared Error\",round(np.sqrt(mean_squared_error(y_test,y_pred)),2))\n",
    "    print(\"\\n\")"
   ]
  },
  {
   "cell_type": "code",
   "execution_count": 216,
   "id": "6d3ce262",
   "metadata": {},
   "outputs": [
    {
     "name": "stdout",
     "output_type": "stream",
     "text": [
      "Training Score for sample 0 : 82.04\n",
      "Testing Score for sample 0 : 54.28\n",
      "Mean Absolute Error 798.31\n",
      "Root Mean Squared Error 1138.33\n",
      "\n",
      "\n",
      "Training Score for sample 1 : 83.05\n",
      "Testing Score for sample 1 : 54.28\n",
      "Mean Absolute Error 829.57\n",
      "Root Mean Squared Error 1162.44\n",
      "\n",
      "\n",
      "Training Score for sample 2 : 82.71\n",
      "Testing Score for sample 2 : 49.37\n",
      "Mean Absolute Error 830.12\n",
      "Root Mean Squared Error 1198.22\n",
      "\n",
      "\n",
      "Training Score for sample 3 : 82.31\n",
      "Testing Score for sample 3 : 54.63\n",
      "Mean Absolute Error 816.38\n",
      "Root Mean Squared Error 1157.8\n",
      "\n",
      "\n",
      "Training Score for sample 4 : 83.0\n",
      "Testing Score for sample 4 : 52.99\n",
      "Mean Absolute Error 851.6\n",
      "Root Mean Squared Error 1221.38\n",
      "\n",
      "\n",
      "Training Score for sample 5 : 82.21\n",
      "Testing Score for sample 5 : 53.72\n",
      "Mean Absolute Error 796.74\n",
      "Root Mean Squared Error 1137.79\n",
      "\n",
      "\n",
      "Training Score for sample 6 : 82.78\n",
      "Testing Score for sample 6 : 50.91\n",
      "Mean Absolute Error 816.42\n",
      "Root Mean Squared Error 1156.75\n",
      "\n",
      "\n",
      "Training Score for sample 7 : 82.66\n",
      "Testing Score for sample 7 : 51.45\n",
      "Mean Absolute Error 821.28\n",
      "Root Mean Squared Error 1171.5\n",
      "\n",
      "\n",
      "Training Score for sample 8 : 82.94\n",
      "Testing Score for sample 8 : 53.08\n",
      "Mean Absolute Error 812.29\n",
      "Root Mean Squared Error 1165.56\n",
      "\n",
      "\n",
      "Training Score for sample 9 : 82.43\n",
      "Testing Score for sample 9 : 53.73\n",
      "Mean Absolute Error 812.38\n",
      "Root Mean Squared Error 1149.76\n",
      "\n",
      "\n"
     ]
    }
   ],
   "source": [
    "######################################### XTREME-GRADIENT BOOST REGRESSION #####################################################\n",
    "\n",
    "import xgboost as xgb\n",
    "\n",
    "xgb= xgb.XGBRegressor()\n",
    "for i in range(0,10):\n",
    "    x_train,x_test,y_train,y_test = train_test_split(X_scaled,y,test_size=0.2,random_state=i)\n",
    "    \n",
    "    xgb.fit(x_train,y_train)\n",
    "\n",
    "    y_pred_train = xgb.predict(x_train)\n",
    "    accuracy_train = r2_score(y_train,y_pred_train)\n",
    "    print(\"Training Score for sample\",i,\":\",round(accuracy_train*100,2))\n",
    "\n",
    "    y_pred= xgb.predict(x_test)\n",
    "    accuracy_test = r2_score(y_test,y_pred)\n",
    "    print(\"Testing Score for sample\",i,\":\",round(accuracy_test*100,2))\n",
    "\n",
    "    print(\"Mean Absolute Error\",round(mean_absolute_error(y_test,y_pred),2))\n",
    "    print(\"Root Mean Squared Error\",round(np.sqrt(mean_squared_error(y_test,y_pred)),2))\n",
    "    print(\"\\n\")"
   ]
  },
  {
   "cell_type": "code",
   "execution_count": 217,
   "id": "96ca0830",
   "metadata": {},
   "outputs": [
    {
     "name": "stdout",
     "output_type": "stream",
     "text": [
      "Training Score for sample 0 : 93.5\n",
      "Testing Score for sample 0 : 56.25\n",
      "Mean Absolute Error 778.16\n",
      "Root Mean Squared Error 1113.49\n",
      "\n",
      "\n",
      "Training Score for sample 1 : 93.54\n",
      "Testing Score for sample 1 : 56.38\n",
      "Mean Absolute Error 808.32\n",
      "Root Mean Squared Error 1135.45\n",
      "\n",
      "\n",
      "Training Score for sample 2 : 93.77\n",
      "Testing Score for sample 2 : 50.36\n",
      "Mean Absolute Error 831.39\n",
      "Root Mean Squared Error 1186.48\n",
      "\n",
      "\n",
      "Training Score for sample 3 : 93.5\n",
      "Testing Score for sample 3 : 54.84\n",
      "Mean Absolute Error 812.82\n",
      "Root Mean Squared Error 1155.15\n",
      "\n",
      "\n",
      "Training Score for sample 4 : 93.52\n",
      "Testing Score for sample 4 : 55.03\n",
      "Mean Absolute Error 827.75\n",
      "Root Mean Squared Error 1194.64\n",
      "\n",
      "\n",
      "Training Score for sample 5 : 93.48\n",
      "Testing Score for sample 5 : 54.88\n",
      "Mean Absolute Error 780.49\n",
      "Root Mean Squared Error 1123.42\n",
      "\n",
      "\n",
      "Training Score for sample 6 : 93.54\n",
      "Testing Score for sample 6 : 52.35\n",
      "Mean Absolute Error 815.65\n",
      "Root Mean Squared Error 1139.68\n",
      "\n",
      "\n",
      "Training Score for sample 7 : 93.62\n",
      "Testing Score for sample 7 : 52.15\n",
      "Mean Absolute Error 811.18\n",
      "Root Mean Squared Error 1163.12\n",
      "\n",
      "\n",
      "Training Score for sample 8 : 93.59\n",
      "Testing Score for sample 8 : 53.13\n",
      "Mean Absolute Error 810.08\n",
      "Root Mean Squared Error 1164.98\n",
      "\n",
      "\n",
      "Training Score for sample 9 : 93.54\n",
      "Testing Score for sample 9 : 53.88\n",
      "Mean Absolute Error 805.03\n",
      "Root Mean Squared Error 1147.91\n",
      "\n",
      "\n"
     ]
    }
   ],
   "source": [
    "############################################## RANDOM FOREST REGRESSION ########################################################\n",
    "\n",
    "from sklearn.ensemble import RandomForestRegressor\n",
    "\n",
    "for i in range(0,10):\n",
    "    x_train,x_test,y_train,y_test = train_test_split(X_scaled,y,test_size=0.2,random_state=i)\n",
    "\n",
    "    rf= RandomForestRegressor(n_jobs=-1)\n",
    "    rf.fit(x_train,y_train)\n",
    "\n",
    "    y_pred_train = rf.predict(x_train)\n",
    "    accuracy_train = r2_score(y_train,y_pred_train)\n",
    "    print(\"Training Score for sample\",i,\":\",round(accuracy_train*100,2))\n",
    "\n",
    "    y_pred= rf.predict(x_test)\n",
    "    accuracy_test = r2_score(y_test,y_pred)\n",
    "    print(\"Testing Score for sample\",i,\":\",round(accuracy_test*100,2))\n",
    "\n",
    "    print(\"Mean Absolute Error\",round(mean_absolute_error(y_test,y_pred),2))\n",
    "    print(\"Root Mean Squared Error\",round(np.sqrt(mean_squared_error(y_test,y_pred)),2))\n",
    "    print(\"\\n\")"
   ]
  },
  {
   "cell_type": "code",
   "execution_count": 218,
   "id": "af94d4cb",
   "metadata": {},
   "outputs": [
    {
     "name": "stdout",
     "output_type": "stream",
     "text": [
      "Training Score for sample 0 : 50.08\n",
      "Testing Score for sample 0 : 51.45\n",
      "Mean Absolute Error 877.98\n",
      "Root Mean Squared Error 1173.03\n",
      "\n",
      "\n",
      "Training Score for sample 1 : 49.97\n",
      "Testing Score for sample 1 : 51.71\n",
      "Mean Absolute Error 891.99\n",
      "Root Mean Squared Error 1194.58\n",
      "\n",
      "\n",
      "Training Score for sample 2 : 50.54\n",
      "Testing Score for sample 2 : 49.33\n",
      "Mean Absolute Error 894.05\n",
      "Root Mean Squared Error 1198.69\n",
      "\n",
      "\n",
      "Training Score for sample 3 : 50.32\n",
      "Testing Score for sample 3 : 50.47\n",
      "Mean Absolute Error 912.9\n",
      "Root Mean Squared Error 1209.75\n",
      "\n",
      "\n",
      "Training Score for sample 4 : 50.02\n",
      "Testing Score for sample 4 : 51.44\n",
      "Mean Absolute Error 919.24\n",
      "Root Mean Squared Error 1241.43\n",
      "\n",
      "\n",
      "Training Score for sample 5 : 50.16\n",
      "Testing Score for sample 5 : 51.05\n",
      "Mean Absolute Error 872.01\n",
      "Root Mean Squared Error 1170.12\n",
      "\n",
      "\n",
      "Training Score for sample 6 : 50.16\n",
      "Testing Score for sample 6 : 51.17\n",
      "Mean Absolute Error 882.7\n",
      "Root Mean Squared Error 1153.61\n",
      "\n",
      "\n",
      "Training Score for sample 7 : 51.1\n",
      "Testing Score for sample 7 : 47.11\n",
      "Mean Absolute Error 919.76\n",
      "Root Mean Squared Error 1222.77\n",
      "\n",
      "\n",
      "Training Score for sample 8 : 50.61\n",
      "Testing Score for sample 8 : 49.26\n",
      "Mean Absolute Error 906.33\n",
      "Root Mean Squared Error 1212.1\n",
      "\n",
      "\n",
      "Training Score for sample 9 : 50.38\n",
      "Testing Score for sample 9 : 49.94\n",
      "Mean Absolute Error 904.44\n",
      "Root Mean Squared Error 1195.97\n",
      "\n",
      "\n"
     ]
    }
   ],
   "source": [
    "############################################### LINEAR REGRESSION ##############################################################\n",
    "\n",
    "from sklearn.linear_model import LinearRegression\n",
    "\n",
    "for i in range(0,10):\n",
    "    x_train,x_test,y_train,y_test = train_test_split(X_scaled,y,test_size=0.2,random_state=i)\n",
    "\n",
    "    lr= LinearRegression()\n",
    "    lr.fit(x_train,y_train)\n",
    "\n",
    "    y_pred_train = lr.predict(x_train)\n",
    "    accuracy_train = r2_score(y_train,y_pred_train)\n",
    "    print(\"Training Score for sample\",i,\":\",round(accuracy_train*100,2))\n",
    "\n",
    "    y_pred= lr.predict(x_test)\n",
    "    accuracy_test = r2_score(y_test,y_pred)\n",
    "    print(\"Testing Score for sample\",i,\":\",round(accuracy_test*100,2))\n",
    "\n",
    "    print(\"Mean Absolute Error\",round(mean_absolute_error(y_test,y_pred),2))\n",
    "    print(\"Root Mean Squared Error\",round(np.sqrt(mean_squared_error(y_test,y_pred)),2))\n",
    "    print(\"\\n\")"
   ]
  },
  {
   "cell_type": "code",
   "execution_count": 219,
   "id": "e52c9b06",
   "metadata": {},
   "outputs": [
    {
     "name": "stdout",
     "output_type": "stream",
     "text": [
      "Training Score for sample 0 : 68.28\n",
      "Testing Score for sample 0 : 52.78\n",
      "Mean Absolute Error 811.02\n",
      "Root Mean Squared Error 1156.79\n",
      "\n",
      "\n",
      "Training Score for sample 1 : 67.63\n",
      "Testing Score for sample 1 : 54.32\n",
      "Mean Absolute Error 823.36\n",
      "Root Mean Squared Error 1161.85\n",
      "\n",
      "\n",
      "Training Score for sample 2 : 68.98\n",
      "Testing Score for sample 2 : 50.47\n",
      "Mean Absolute Error 834.05\n",
      "Root Mean Squared Error 1185.17\n",
      "\n",
      "\n",
      "Training Score for sample 3 : 67.78\n",
      "Testing Score for sample 3 : 55.31\n",
      "Mean Absolute Error 818.99\n",
      "Root Mean Squared Error 1149.08\n",
      "\n",
      "\n",
      "Training Score for sample 4 : 68.36\n",
      "Testing Score for sample 4 : 53.99\n",
      "Mean Absolute Error 830.92\n",
      "Root Mean Squared Error 1208.35\n",
      "\n",
      "\n",
      "Training Score for sample 5 : 68.93\n",
      "Testing Score for sample 5 : 51.75\n",
      "Mean Absolute Error 809.02\n",
      "Root Mean Squared Error 1161.81\n",
      "\n",
      "\n",
      "Training Score for sample 6 : 68.14\n",
      "Testing Score for sample 6 : 53.04\n",
      "Mean Absolute Error 810.25\n",
      "Root Mean Squared Error 1131.3\n",
      "\n",
      "\n",
      "Training Score for sample 7 : 68.9\n",
      "Testing Score for sample 7 : 49.68\n",
      "Mean Absolute Error 837.17\n",
      "Root Mean Squared Error 1192.69\n",
      "\n",
      "\n",
      "Training Score for sample 8 : 68.62\n",
      "Testing Score for sample 8 : 51.7\n",
      "Mean Absolute Error 825.55\n",
      "Root Mean Squared Error 1182.57\n",
      "\n",
      "\n",
      "Training Score for sample 9 : 68.47\n",
      "Testing Score for sample 9 : 53.53\n",
      "Mean Absolute Error 814.77\n",
      "Root Mean Squared Error 1152.24\n",
      "\n",
      "\n"
     ]
    }
   ],
   "source": [
    "############################################## K-NEIGHBORS REGRESSION ##########################################################\n",
    "\n",
    "from sklearn.neighbors import KNeighborsRegressor\n",
    "\n",
    "for i in range(0,10):\n",
    "    x_train,x_test,y_train,y_test = train_test_split(X_scaled,y,test_size=0.2,random_state=i)\n",
    "\n",
    "    knr= KNeighborsRegressor()\n",
    "    knr.fit(x_train,y_train)\n",
    "\n",
    "    y_pred_train = knr.predict(x_train)\n",
    "    accuracy_train = r2_score(y_train,y_pred_train)\n",
    "    print(\"Training Score for sample\",i,\":\",round(accuracy_train*100,2))\n",
    "\n",
    "    y_pred= knr.predict(x_test)\n",
    "    accuracy_test = r2_score(y_test,y_pred)\n",
    "    print(\"Testing Score for sample\",i,\":\",round(accuracy_test*100,2))\n",
    "\n",
    "    print(\"Mean Absolute Error\",round(mean_absolute_error(y_test,y_pred),2))\n",
    "    print(\"Root Mean Squared Error\",round(np.sqrt(mean_squared_error(y_test,y_pred)),2))\n",
    "    print(\"\\n\")"
   ]
  },
  {
   "cell_type": "code",
   "execution_count": 220,
   "id": "0db965a3",
   "metadata": {},
   "outputs": [
    {
     "name": "stdout",
     "output_type": "stream",
     "text": [
      "{'max_depth': 6, 'min_samples_split': 2, 'n_estimators': 100}\n"
     ]
    }
   ],
   "source": [
    "# Random Forests seems to be giving the best testing results.\n",
    "# Hyperparameter tuning of Random forest regression.\n",
    "\n",
    "from sklearn.model_selection import GridSearchCV\n",
    "\n",
    "params= {\"n_estimators\": np.arange(50,300,50),\n",
    "         \"max_depth\": range(6,13),\n",
    "         \"min_samples_split\": range(2,5)\n",
    "         }\n",
    "\n",
    "grd= GridSearchCV(rf, param_grid=params,cv=5,n_jobs=-1)\n",
    "\n",
    "grd.fit(x_train,y_train)\n",
    "print(grd.best_params_)"
   ]
  },
  {
   "cell_type": "code",
   "execution_count": 221,
   "id": "36147ff4",
   "metadata": {},
   "outputs": [
    {
     "name": "stdout",
     "output_type": "stream",
     "text": [
      "Training Score for best sample 61.06\n",
      "Testing Score for best sample: 60.96\n",
      "Mean Absolute Error 756.74\n",
      "Root Mean Squared Error 1066.0\n"
     ]
    }
   ],
   "source": [
    "# Taking the best sample split result and applying on the tuned model.\n",
    "\n",
    "rf_tuned= grd.best_estimator_\n",
    "x_train,x_test,y_train,y_test = train_test_split(X_scaled,y,test_size=0.25,random_state=1)\n",
    "\n",
    "y_pred_train = rf_tuned.predict(x_train)\n",
    "accuracy_train = r2_score(y_train,y_pred_train)\n",
    "y_pred= rf_tuned.predict(x_test)\n",
    "accuracy_test = r2_score(y_test,y_pred)\n",
    "\n",
    "print(\"Training Score for best sample\",round(accuracy_train*100,2))\n",
    "print(\"Testing Score for best sample:\",round(accuracy_test*100,2))\n",
    "print(\"Mean Absolute Error\",round(mean_absolute_error(y_test,y_pred),2))\n",
    "print(\"Root Mean Squared Error\",round(np.sqrt(mean_squared_error(y_test,y_pred)),2))"
   ]
  },
  {
   "cell_type": "code",
   "execution_count": 223,
   "id": "04a2fbe7",
   "metadata": {},
   "outputs": [
    {
     "name": "stdout",
     "output_type": "stream",
     "text": [
      "the cv score for 5 fold: 58.69\n",
      "the cv score for 6 fold: 58.85\n",
      "the cv score for 7 fold: 58.85\n",
      "the cv score for 8 fold: 58.79\n",
      "the cv score for 9 fold: 58.82\n"
     ]
    }
   ],
   "source": [
    "# cross-validating the tuned random-forest regression model.\n",
    "\n",
    "from sklearn.model_selection import cross_val_score, KFold\n",
    "\n",
    "for i in range(5,10):\n",
    "    cv_score= cross_val_score(rf_tuned,X_scaled,y,cv=i).mean()\n",
    "    print(\"the cv score for\",i,\"fold:\", round(cv_score*100,2))"
   ]
  },
  {
   "cell_type": "code",
   "execution_count": 224,
   "id": "4bc2c8c8",
   "metadata": {},
   "outputs": [
    {
     "name": "stdout",
     "output_type": "stream",
     "text": [
      "the cv score for 5 fold: 47.9\n",
      "the cv score for 6 fold: 48.14\n",
      "the cv score for 7 fold: 46.19\n",
      "the cv score for 8 fold: 48.22\n",
      "the cv score for 9 fold: 48.53\n"
     ]
    }
   ],
   "source": [
    "# cross-validating the ada-boost regression model.\n",
    "\n",
    "from sklearn.model_selection import cross_val_score, KFold\n",
    "\n",
    "for i in range(5,10):\n",
    "    cv_score= cross_val_score(ada,X_scaled,y,cv=i).mean()\n",
    "    print(\"the cv score for\",i,\"fold:\", round(cv_score*100,2))"
   ]
  },
  {
   "cell_type": "code",
   "execution_count": 225,
   "id": "3c631a08",
   "metadata": {},
   "outputs": [
    {
     "name": "stdout",
     "output_type": "stream",
     "text": [
      "the cv score for 5 fold: 52.59\n",
      "the cv score for 6 fold: 53.27\n",
      "the cv score for 7 fold: 53.09\n",
      "the cv score for 8 fold: 53.21\n",
      "the cv score for 9 fold: 52.57\n"
     ]
    }
   ],
   "source": [
    "# cross-validating the xgb regression model.\n",
    "\n",
    "from sklearn.model_selection import cross_val_score, KFold\n",
    "\n",
    "for i in range(5,10):\n",
    "    cv_score= cross_val_score(xgb,X_scaled,y,cv=i).mean()\n",
    "    print(\"the cv score for\",i,\"fold:\", round(cv_score*100,2))"
   ]
  },
  {
   "cell_type": "code",
   "execution_count": 226,
   "id": "6407a808",
   "metadata": {},
   "outputs": [
    {
     "name": "stdout",
     "output_type": "stream",
     "text": [
      "the cv score for 5 fold: 50.17\n",
      "the cv score for 6 fold: 50.2\n",
      "the cv score for 7 fold: 50.22\n",
      "the cv score for 8 fold: 50.15\n",
      "the cv score for 9 fold: 50.17\n"
     ]
    }
   ],
   "source": [
    "# cross-validating the linear regression model.\n",
    "\n",
    "from sklearn.model_selection import cross_val_score, KFold\n",
    "\n",
    "for i in range(5,10):\n",
    "    cv_score= cross_val_score(lr,X_scaled,y,cv=i).mean()\n",
    "    print(\"the cv score for\",i,\"fold:\", round(cv_score*100,2))"
   ]
  },
  {
   "cell_type": "code",
   "execution_count": 227,
   "id": "8fe9eca4",
   "metadata": {},
   "outputs": [
    {
     "name": "stdout",
     "output_type": "stream",
     "text": [
      "the cv score for 5 fold: 52.05\n",
      "the cv score for 6 fold: 52.39\n",
      "the cv score for 7 fold: 52.6\n",
      "the cv score for 8 fold: 52.23\n",
      "the cv score for 9 fold: 52.6\n"
     ]
    }
   ],
   "source": [
    "# cross-validating the k-neighbors regression model.\n",
    "\n",
    "from sklearn.model_selection import cross_val_score, KFold\n",
    "\n",
    "for i in range(5,10):\n",
    "    cv_score= cross_val_score(knr,X_scaled,y,cv=i).mean()\n",
    "    print(\"the cv score for\",i,\"fold:\", round(cv_score*100,2))"
   ]
  },
  {
   "cell_type": "code",
   "execution_count": 228,
   "id": "3e4413e6",
   "metadata": {},
   "outputs": [],
   "source": [
    "# Now let's get the test-dataset and predict using our best model."
   ]
  },
  {
   "cell_type": "code",
   "execution_count": 229,
   "id": "d655640b",
   "metadata": {},
   "outputs": [
    {
     "data": {
      "text/html": [
       "<div>\n",
       "<style scoped>\n",
       "    .dataframe tbody tr th:only-of-type {\n",
       "        vertical-align: middle;\n",
       "    }\n",
       "\n",
       "    .dataframe tbody tr th {\n",
       "        vertical-align: top;\n",
       "    }\n",
       "\n",
       "    .dataframe thead th {\n",
       "        text-align: right;\n",
       "    }\n",
       "</style>\n",
       "<table border=\"1\" class=\"dataframe\">\n",
       "  <thead>\n",
       "    <tr style=\"text-align: right;\">\n",
       "      <th></th>\n",
       "      <th>Item_Identifier</th>\n",
       "      <th>Item_Weight</th>\n",
       "      <th>Item_Fat_Content</th>\n",
       "      <th>Item_Visibility</th>\n",
       "      <th>Item_Type</th>\n",
       "      <th>Item_MRP</th>\n",
       "      <th>Outlet_Identifier</th>\n",
       "      <th>Outlet_Establishment_Year</th>\n",
       "      <th>Outlet_Size</th>\n",
       "      <th>Outlet_Location_Type</th>\n",
       "      <th>Outlet_Type</th>\n",
       "    </tr>\n",
       "  </thead>\n",
       "  <tbody>\n",
       "    <tr>\n",
       "      <th>0</th>\n",
       "      <td>FDW58</td>\n",
       "      <td>20.750</td>\n",
       "      <td>Low Fat</td>\n",
       "      <td>0.007565</td>\n",
       "      <td>Snack Foods</td>\n",
       "      <td>107.8622</td>\n",
       "      <td>OUT049</td>\n",
       "      <td>1999</td>\n",
       "      <td>Medium</td>\n",
       "      <td>Tier 1</td>\n",
       "      <td>Supermarket Type1</td>\n",
       "    </tr>\n",
       "    <tr>\n",
       "      <th>1</th>\n",
       "      <td>FDW14</td>\n",
       "      <td>8.300</td>\n",
       "      <td>reg</td>\n",
       "      <td>0.038428</td>\n",
       "      <td>Dairy</td>\n",
       "      <td>87.3198</td>\n",
       "      <td>OUT017</td>\n",
       "      <td>2007</td>\n",
       "      <td>NaN</td>\n",
       "      <td>Tier 2</td>\n",
       "      <td>Supermarket Type1</td>\n",
       "    </tr>\n",
       "    <tr>\n",
       "      <th>2</th>\n",
       "      <td>NCN55</td>\n",
       "      <td>14.600</td>\n",
       "      <td>Low Fat</td>\n",
       "      <td>0.099575</td>\n",
       "      <td>Others</td>\n",
       "      <td>241.7538</td>\n",
       "      <td>OUT010</td>\n",
       "      <td>1998</td>\n",
       "      <td>NaN</td>\n",
       "      <td>Tier 3</td>\n",
       "      <td>Grocery Store</td>\n",
       "    </tr>\n",
       "    <tr>\n",
       "      <th>3</th>\n",
       "      <td>FDQ58</td>\n",
       "      <td>7.315</td>\n",
       "      <td>Low Fat</td>\n",
       "      <td>0.015388</td>\n",
       "      <td>Snack Foods</td>\n",
       "      <td>155.0340</td>\n",
       "      <td>OUT017</td>\n",
       "      <td>2007</td>\n",
       "      <td>NaN</td>\n",
       "      <td>Tier 2</td>\n",
       "      <td>Supermarket Type1</td>\n",
       "    </tr>\n",
       "    <tr>\n",
       "      <th>4</th>\n",
       "      <td>FDY38</td>\n",
       "      <td>NaN</td>\n",
       "      <td>Regular</td>\n",
       "      <td>0.118599</td>\n",
       "      <td>Dairy</td>\n",
       "      <td>234.2300</td>\n",
       "      <td>OUT027</td>\n",
       "      <td>1985</td>\n",
       "      <td>Medium</td>\n",
       "      <td>Tier 3</td>\n",
       "      <td>Supermarket Type3</td>\n",
       "    </tr>\n",
       "  </tbody>\n",
       "</table>\n",
       "</div>"
      ],
      "text/plain": [
       "  Item_Identifier  Item_Weight Item_Fat_Content  Item_Visibility    Item_Type  \\\n",
       "0           FDW58       20.750          Low Fat         0.007565  Snack Foods   \n",
       "1           FDW14        8.300              reg         0.038428        Dairy   \n",
       "2           NCN55       14.600          Low Fat         0.099575       Others   \n",
       "3           FDQ58        7.315          Low Fat         0.015388  Snack Foods   \n",
       "4           FDY38          NaN          Regular         0.118599        Dairy   \n",
       "\n",
       "   Item_MRP Outlet_Identifier  Outlet_Establishment_Year Outlet_Size  \\\n",
       "0  107.8622            OUT049                       1999      Medium   \n",
       "1   87.3198            OUT017                       2007         NaN   \n",
       "2  241.7538            OUT010                       1998         NaN   \n",
       "3  155.0340            OUT017                       2007         NaN   \n",
       "4  234.2300            OUT027                       1985      Medium   \n",
       "\n",
       "  Outlet_Location_Type        Outlet_Type  \n",
       "0               Tier 1  Supermarket Type1  \n",
       "1               Tier 2  Supermarket Type1  \n",
       "2               Tier 3      Grocery Store  \n",
       "3               Tier 2  Supermarket Type1  \n",
       "4               Tier 3  Supermarket Type3  "
      ]
     },
     "execution_count": 229,
     "metadata": {},
     "output_type": "execute_result"
    }
   ],
   "source": [
    "# Getting the data.\n",
    "data= pd.read_csv(\"https://raw.githubusercontent.com/dsrscientist/bigdatamart_rep/master/bigdatamart_Test.csv\")\n",
    "test_df= data\n",
    "test_df.head()"
   ]
  },
  {
   "cell_type": "code",
   "execution_count": 230,
   "id": "12c1c37f",
   "metadata": {},
   "outputs": [],
   "source": [
    "# dropping the nominal data columns.\n",
    "test_df= test_df.drop(columns=[\"Item_Identifier\",\"Outlet_Identifier\"])"
   ]
  },
  {
   "cell_type": "code",
   "execution_count": 231,
   "id": "dee4f3b8",
   "metadata": {},
   "outputs": [
    {
     "data": {
      "text/plain": [
       "False    5681\n",
       "dtype: int64"
      ]
     },
     "execution_count": 231,
     "metadata": {},
     "output_type": "execute_result"
    }
   ],
   "source": [
    "# Checking for duplicate records.\n",
    "test_df.duplicated().value_counts()"
   ]
  },
  {
   "cell_type": "code",
   "execution_count": 232,
   "id": "b3ed8523",
   "metadata": {},
   "outputs": [
    {
     "data": {
      "text/plain": [
       "Item_Weight                   976\n",
       "Item_Fat_Content                0\n",
       "Item_Visibility                 0\n",
       "Item_Type                       0\n",
       "Item_MRP                        0\n",
       "Outlet_Establishment_Year       0\n",
       "Outlet_Size                  1606\n",
       "Outlet_Location_Type            0\n",
       "Outlet_Type                     0\n",
       "dtype: int64"
      ]
     },
     "execution_count": 232,
     "metadata": {},
     "output_type": "execute_result"
    }
   ],
   "source": [
    "# Checking for null values.\n",
    "test_df.isnull().sum()"
   ]
  },
  {
   "cell_type": "code",
   "execution_count": 233,
   "id": "49506c42",
   "metadata": {},
   "outputs": [],
   "source": [
    "# Let's apply the same set of techniques that we applied on our training dataset."
   ]
  },
  {
   "cell_type": "code",
   "execution_count": 234,
   "id": "5f64ee4b",
   "metadata": {},
   "outputs": [],
   "source": [
    "# Deleting the irrelevant columns.\n",
    "test_df= test_df.drop(columns=[\"Item_Weight\",\"Item_Fat_Content\",\"Item_Type\"])"
   ]
  },
  {
   "cell_type": "code",
   "execution_count": 235,
   "id": "0184bffa",
   "metadata": {},
   "outputs": [],
   "source": [
    "# Filling the missing values of \"Outlet_Size\" column with mode of the column.\n",
    "test_df[\"Outlet_Size\"]= test_df[\"Outlet_Size\"].fillna(test_df[\"Outlet_Size\"].mode()[0])\n",
    "\n",
    "# Encoding the categorical columns.\n",
    "test_df[\"Outlet_Size\"]= enc.fit_transform(test_df[\"Outlet_Size\"])\n",
    "test_df[\"Outlet_Location_Type\"]= enc.fit_transform(test_df[\"Outlet_Location_Type\"])\n",
    "test_df[\"Outlet_Type\"]= enc.fit_transform(test_df[\"Outlet_Type\"])"
   ]
  },
  {
   "cell_type": "code",
   "execution_count": 236,
   "id": "5f4f525d",
   "metadata": {},
   "outputs": [
    {
     "data": {
      "text/html": [
       "<div>\n",
       "<style scoped>\n",
       "    .dataframe tbody tr th:only-of-type {\n",
       "        vertical-align: middle;\n",
       "    }\n",
       "\n",
       "    .dataframe tbody tr th {\n",
       "        vertical-align: top;\n",
       "    }\n",
       "\n",
       "    .dataframe thead th {\n",
       "        text-align: right;\n",
       "    }\n",
       "</style>\n",
       "<table border=\"1\" class=\"dataframe\">\n",
       "  <thead>\n",
       "    <tr style=\"text-align: right;\">\n",
       "      <th></th>\n",
       "      <th>Item_Visibility</th>\n",
       "      <th>Item_MRP</th>\n",
       "      <th>Outlet_Establishment_Year</th>\n",
       "      <th>Outlet_Size</th>\n",
       "      <th>Outlet_Location_Type</th>\n",
       "      <th>Outlet_Type</th>\n",
       "    </tr>\n",
       "  </thead>\n",
       "  <tbody>\n",
       "    <tr>\n",
       "      <th>0</th>\n",
       "      <td>0.007565</td>\n",
       "      <td>107.8622</td>\n",
       "      <td>1999</td>\n",
       "      <td>1</td>\n",
       "      <td>0</td>\n",
       "      <td>1</td>\n",
       "    </tr>\n",
       "    <tr>\n",
       "      <th>1</th>\n",
       "      <td>0.038428</td>\n",
       "      <td>87.3198</td>\n",
       "      <td>2007</td>\n",
       "      <td>1</td>\n",
       "      <td>1</td>\n",
       "      <td>1</td>\n",
       "    </tr>\n",
       "    <tr>\n",
       "      <th>2</th>\n",
       "      <td>0.099575</td>\n",
       "      <td>241.7538</td>\n",
       "      <td>1998</td>\n",
       "      <td>1</td>\n",
       "      <td>2</td>\n",
       "      <td>0</td>\n",
       "    </tr>\n",
       "    <tr>\n",
       "      <th>3</th>\n",
       "      <td>0.015388</td>\n",
       "      <td>155.0340</td>\n",
       "      <td>2007</td>\n",
       "      <td>1</td>\n",
       "      <td>1</td>\n",
       "      <td>1</td>\n",
       "    </tr>\n",
       "    <tr>\n",
       "      <th>4</th>\n",
       "      <td>0.118599</td>\n",
       "      <td>234.2300</td>\n",
       "      <td>1985</td>\n",
       "      <td>1</td>\n",
       "      <td>2</td>\n",
       "      <td>3</td>\n",
       "    </tr>\n",
       "  </tbody>\n",
       "</table>\n",
       "</div>"
      ],
      "text/plain": [
       "   Item_Visibility  Item_MRP  Outlet_Establishment_Year  Outlet_Size  \\\n",
       "0         0.007565  107.8622                       1999            1   \n",
       "1         0.038428   87.3198                       2007            1   \n",
       "2         0.099575  241.7538                       1998            1   \n",
       "3         0.015388  155.0340                       2007            1   \n",
       "4         0.118599  234.2300                       1985            1   \n",
       "\n",
       "   Outlet_Location_Type  Outlet_Type  \n",
       "0                     0            1  \n",
       "1                     1            1  \n",
       "2                     2            0  \n",
       "3                     1            1  \n",
       "4                     2            3  "
      ]
     },
     "execution_count": 236,
     "metadata": {},
     "output_type": "execute_result"
    }
   ],
   "source": [
    "test_df.head()"
   ]
  },
  {
   "cell_type": "code",
   "execution_count": 237,
   "id": "4eedd7d0",
   "metadata": {},
   "outputs": [],
   "source": [
    "# Scaling the data.\n",
    "X_test= scaler.fit_transform(test_df)"
   ]
  },
  {
   "cell_type": "code",
   "execution_count": 238,
   "id": "127937bc",
   "metadata": {},
   "outputs": [
    {
     "name": "stdout",
     "output_type": "stream",
     "text": [
      "[1660.29523387 1363.27115459  538.49246589 ... 1952.54702321 3718.17890348\n",
      " 1268.36951284]\n"
     ]
    }
   ],
   "source": [
    "# Predicting the label data using our tuned random-forest model.\n",
    "Y_test_rf_tuned= rf_tuned.predict(X_test)\n",
    "print(Y_test_rf_tuned)"
   ]
  },
  {
   "cell_type": "code",
   "execution_count": 239,
   "id": "1d7ea132",
   "metadata": {
    "scrolled": false
   },
   "outputs": [
    {
     "data": {
      "text/html": [
       "<div>\n",
       "<style scoped>\n",
       "    .dataframe tbody tr th:only-of-type {\n",
       "        vertical-align: middle;\n",
       "    }\n",
       "\n",
       "    .dataframe tbody tr th {\n",
       "        vertical-align: top;\n",
       "    }\n",
       "\n",
       "    .dataframe thead th {\n",
       "        text-align: right;\n",
       "    }\n",
       "</style>\n",
       "<table border=\"1\" class=\"dataframe\">\n",
       "  <thead>\n",
       "    <tr style=\"text-align: right;\">\n",
       "      <th></th>\n",
       "      <th>Item_Identifier</th>\n",
       "      <th>Item_Weight</th>\n",
       "      <th>Item_Fat_Content</th>\n",
       "      <th>Item_Visibility</th>\n",
       "      <th>Item_Type</th>\n",
       "      <th>Item_MRP</th>\n",
       "      <th>Outlet_Identifier</th>\n",
       "      <th>Outlet_Establishment_Year</th>\n",
       "      <th>Outlet_Size</th>\n",
       "      <th>Outlet_Location_Type</th>\n",
       "      <th>Outlet_Type</th>\n",
       "      <th>Item_Outlet_Sales</th>\n",
       "    </tr>\n",
       "  </thead>\n",
       "  <tbody>\n",
       "    <tr>\n",
       "      <th>0</th>\n",
       "      <td>FDW58</td>\n",
       "      <td>20.750</td>\n",
       "      <td>Low Fat</td>\n",
       "      <td>0.007565</td>\n",
       "      <td>Snack Foods</td>\n",
       "      <td>107.8622</td>\n",
       "      <td>OUT049</td>\n",
       "      <td>1999</td>\n",
       "      <td>Medium</td>\n",
       "      <td>Tier 1</td>\n",
       "      <td>Supermarket Type1</td>\n",
       "      <td>1660.295234</td>\n",
       "    </tr>\n",
       "    <tr>\n",
       "      <th>1</th>\n",
       "      <td>FDW14</td>\n",
       "      <td>8.300</td>\n",
       "      <td>reg</td>\n",
       "      <td>0.038428</td>\n",
       "      <td>Dairy</td>\n",
       "      <td>87.3198</td>\n",
       "      <td>OUT017</td>\n",
       "      <td>2007</td>\n",
       "      <td>NaN</td>\n",
       "      <td>Tier 2</td>\n",
       "      <td>Supermarket Type1</td>\n",
       "      <td>1363.271155</td>\n",
       "    </tr>\n",
       "    <tr>\n",
       "      <th>2</th>\n",
       "      <td>NCN55</td>\n",
       "      <td>14.600</td>\n",
       "      <td>Low Fat</td>\n",
       "      <td>0.099575</td>\n",
       "      <td>Others</td>\n",
       "      <td>241.7538</td>\n",
       "      <td>OUT010</td>\n",
       "      <td>1998</td>\n",
       "      <td>NaN</td>\n",
       "      <td>Tier 3</td>\n",
       "      <td>Grocery Store</td>\n",
       "      <td>538.492466</td>\n",
       "    </tr>\n",
       "    <tr>\n",
       "      <th>3</th>\n",
       "      <td>FDQ58</td>\n",
       "      <td>7.315</td>\n",
       "      <td>Low Fat</td>\n",
       "      <td>0.015388</td>\n",
       "      <td>Snack Foods</td>\n",
       "      <td>155.0340</td>\n",
       "      <td>OUT017</td>\n",
       "      <td>2007</td>\n",
       "      <td>NaN</td>\n",
       "      <td>Tier 2</td>\n",
       "      <td>Supermarket Type1</td>\n",
       "      <td>2446.715112</td>\n",
       "    </tr>\n",
       "    <tr>\n",
       "      <th>4</th>\n",
       "      <td>FDY38</td>\n",
       "      <td>NaN</td>\n",
       "      <td>Regular</td>\n",
       "      <td>0.118599</td>\n",
       "      <td>Dairy</td>\n",
       "      <td>234.2300</td>\n",
       "      <td>OUT027</td>\n",
       "      <td>1985</td>\n",
       "      <td>Medium</td>\n",
       "      <td>Tier 3</td>\n",
       "      <td>Supermarket Type3</td>\n",
       "      <td>6054.345456</td>\n",
       "    </tr>\n",
       "    <tr>\n",
       "      <th>...</th>\n",
       "      <td>...</td>\n",
       "      <td>...</td>\n",
       "      <td>...</td>\n",
       "      <td>...</td>\n",
       "      <td>...</td>\n",
       "      <td>...</td>\n",
       "      <td>...</td>\n",
       "      <td>...</td>\n",
       "      <td>...</td>\n",
       "      <td>...</td>\n",
       "      <td>...</td>\n",
       "      <td>...</td>\n",
       "    </tr>\n",
       "    <tr>\n",
       "      <th>5676</th>\n",
       "      <td>FDB58</td>\n",
       "      <td>10.500</td>\n",
       "      <td>Regular</td>\n",
       "      <td>0.013496</td>\n",
       "      <td>Snack Foods</td>\n",
       "      <td>141.3154</td>\n",
       "      <td>OUT046</td>\n",
       "      <td>1997</td>\n",
       "      <td>Small</td>\n",
       "      <td>Tier 1</td>\n",
       "      <td>Supermarket Type1</td>\n",
       "      <td>2216.039497</td>\n",
       "    </tr>\n",
       "    <tr>\n",
       "      <th>5677</th>\n",
       "      <td>FDD47</td>\n",
       "      <td>7.600</td>\n",
       "      <td>Regular</td>\n",
       "      <td>0.142991</td>\n",
       "      <td>Starchy Foods</td>\n",
       "      <td>169.1448</td>\n",
       "      <td>OUT018</td>\n",
       "      <td>2009</td>\n",
       "      <td>Medium</td>\n",
       "      <td>Tier 3</td>\n",
       "      <td>Supermarket Type2</td>\n",
       "      <td>2695.294928</td>\n",
       "    </tr>\n",
       "    <tr>\n",
       "      <th>5678</th>\n",
       "      <td>NCO17</td>\n",
       "      <td>10.000</td>\n",
       "      <td>Low Fat</td>\n",
       "      <td>0.073529</td>\n",
       "      <td>Health and Hygiene</td>\n",
       "      <td>118.7440</td>\n",
       "      <td>OUT045</td>\n",
       "      <td>2002</td>\n",
       "      <td>NaN</td>\n",
       "      <td>Tier 2</td>\n",
       "      <td>Supermarket Type1</td>\n",
       "      <td>1952.547023</td>\n",
       "    </tr>\n",
       "    <tr>\n",
       "      <th>5679</th>\n",
       "      <td>FDJ26</td>\n",
       "      <td>15.300</td>\n",
       "      <td>Regular</td>\n",
       "      <td>0.000000</td>\n",
       "      <td>Canned</td>\n",
       "      <td>214.6218</td>\n",
       "      <td>OUT017</td>\n",
       "      <td>2007</td>\n",
       "      <td>NaN</td>\n",
       "      <td>Tier 2</td>\n",
       "      <td>Supermarket Type1</td>\n",
       "      <td>3718.178903</td>\n",
       "    </tr>\n",
       "    <tr>\n",
       "      <th>5680</th>\n",
       "      <td>FDU37</td>\n",
       "      <td>9.500</td>\n",
       "      <td>Regular</td>\n",
       "      <td>0.104720</td>\n",
       "      <td>Canned</td>\n",
       "      <td>79.7960</td>\n",
       "      <td>OUT045</td>\n",
       "      <td>2002</td>\n",
       "      <td>NaN</td>\n",
       "      <td>Tier 2</td>\n",
       "      <td>Supermarket Type1</td>\n",
       "      <td>1268.369513</td>\n",
       "    </tr>\n",
       "  </tbody>\n",
       "</table>\n",
       "<p>5681 rows × 12 columns</p>\n",
       "</div>"
      ],
      "text/plain": [
       "     Item_Identifier  Item_Weight Item_Fat_Content  Item_Visibility  \\\n",
       "0              FDW58       20.750          Low Fat         0.007565   \n",
       "1              FDW14        8.300              reg         0.038428   \n",
       "2              NCN55       14.600          Low Fat         0.099575   \n",
       "3              FDQ58        7.315          Low Fat         0.015388   \n",
       "4              FDY38          NaN          Regular         0.118599   \n",
       "...              ...          ...              ...              ...   \n",
       "5676           FDB58       10.500          Regular         0.013496   \n",
       "5677           FDD47        7.600          Regular         0.142991   \n",
       "5678           NCO17       10.000          Low Fat         0.073529   \n",
       "5679           FDJ26       15.300          Regular         0.000000   \n",
       "5680           FDU37        9.500          Regular         0.104720   \n",
       "\n",
       "               Item_Type  Item_MRP Outlet_Identifier  \\\n",
       "0            Snack Foods  107.8622            OUT049   \n",
       "1                  Dairy   87.3198            OUT017   \n",
       "2                 Others  241.7538            OUT010   \n",
       "3            Snack Foods  155.0340            OUT017   \n",
       "4                  Dairy  234.2300            OUT027   \n",
       "...                  ...       ...               ...   \n",
       "5676         Snack Foods  141.3154            OUT046   \n",
       "5677       Starchy Foods  169.1448            OUT018   \n",
       "5678  Health and Hygiene  118.7440            OUT045   \n",
       "5679              Canned  214.6218            OUT017   \n",
       "5680              Canned   79.7960            OUT045   \n",
       "\n",
       "      Outlet_Establishment_Year Outlet_Size Outlet_Location_Type  \\\n",
       "0                          1999      Medium               Tier 1   \n",
       "1                          2007         NaN               Tier 2   \n",
       "2                          1998         NaN               Tier 3   \n",
       "3                          2007         NaN               Tier 2   \n",
       "4                          1985      Medium               Tier 3   \n",
       "...                         ...         ...                  ...   \n",
       "5676                       1997       Small               Tier 1   \n",
       "5677                       2009      Medium               Tier 3   \n",
       "5678                       2002         NaN               Tier 2   \n",
       "5679                       2007         NaN               Tier 2   \n",
       "5680                       2002         NaN               Tier 2   \n",
       "\n",
       "            Outlet_Type  Item_Outlet_Sales  \n",
       "0     Supermarket Type1        1660.295234  \n",
       "1     Supermarket Type1        1363.271155  \n",
       "2         Grocery Store         538.492466  \n",
       "3     Supermarket Type1        2446.715112  \n",
       "4     Supermarket Type3        6054.345456  \n",
       "...                 ...                ...  \n",
       "5676  Supermarket Type1        2216.039497  \n",
       "5677  Supermarket Type2        2695.294928  \n",
       "5678  Supermarket Type1        1952.547023  \n",
       "5679  Supermarket Type1        3718.178903  \n",
       "5680  Supermarket Type1        1268.369513  \n",
       "\n",
       "[5681 rows x 12 columns]"
      ]
     },
     "execution_count": 239,
     "metadata": {},
     "output_type": "execute_result"
    }
   ],
   "source": [
    "# Adding the predicted output into the test dataset.\n",
    "data[\"Item_Outlet_Sales\"]= Y_test_rf_tuned\n",
    "data"
   ]
  },
  {
   "cell_type": "code",
   "execution_count": 240,
   "id": "7cc47876",
   "metadata": {},
   "outputs": [],
   "source": [
    "# saving the model using pickle\n",
    "import pickle \n",
    "\n",
    "BigDataMart= \"BigDataMart_model.pickle\"\n",
    "pickle.dump(rf_tuned, open(BigDataMart,'wb'))"
   ]
  },
  {
   "cell_type": "code",
   "execution_count": null,
   "id": "2524b8f6",
   "metadata": {},
   "outputs": [],
   "source": []
  }
 ],
 "metadata": {
  "kernelspec": {
   "display_name": "Python 3 (ipykernel)",
   "language": "python",
   "name": "python3"
  },
  "language_info": {
   "codemirror_mode": {
    "name": "ipython",
    "version": 3
   },
   "file_extension": ".py",
   "mimetype": "text/x-python",
   "name": "python",
   "nbconvert_exporter": "python",
   "pygments_lexer": "ipython3",
   "version": "3.9.7"
  }
 },
 "nbformat": 4,
 "nbformat_minor": 5
}
