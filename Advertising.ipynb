{
 "cells": [
  {
   "cell_type": "code",
   "execution_count": 1,
   "id": "ccf7dafc",
   "metadata": {},
   "outputs": [],
   "source": [
    "# importing necessary libraries.\n",
    "import numpy as np\n",
    "import pandas as pd\n",
    "import matplotlib.pyplot as plt\n",
    "import seaborn as sns\n",
    "%matplotlib inline\n",
    "from sklearn.metrics import r2_score, mean_absolute_error, mean_squared_error\n",
    "from sklearn.model_selection import train_test_split\n",
    "\n",
    "import warnings\n",
    "warnings.filterwarnings(\"ignore\")"
   ]
  },
  {
   "cell_type": "code",
   "execution_count": 2,
   "id": "9c59987d",
   "metadata": {},
   "outputs": [
    {
     "data": {
      "text/html": [
       "<div>\n",
       "<style scoped>\n",
       "    .dataframe tbody tr th:only-of-type {\n",
       "        vertical-align: middle;\n",
       "    }\n",
       "\n",
       "    .dataframe tbody tr th {\n",
       "        vertical-align: top;\n",
       "    }\n",
       "\n",
       "    .dataframe thead th {\n",
       "        text-align: right;\n",
       "    }\n",
       "</style>\n",
       "<table border=\"1\" class=\"dataframe\">\n",
       "  <thead>\n",
       "    <tr style=\"text-align: right;\">\n",
       "      <th></th>\n",
       "      <th>Unnamed: 0</th>\n",
       "      <th>TV</th>\n",
       "      <th>radio</th>\n",
       "      <th>newspaper</th>\n",
       "      <th>sales</th>\n",
       "    </tr>\n",
       "  </thead>\n",
       "  <tbody>\n",
       "    <tr>\n",
       "      <th>0</th>\n",
       "      <td>1</td>\n",
       "      <td>230.1</td>\n",
       "      <td>37.8</td>\n",
       "      <td>69.2</td>\n",
       "      <td>22.1</td>\n",
       "    </tr>\n",
       "    <tr>\n",
       "      <th>1</th>\n",
       "      <td>2</td>\n",
       "      <td>44.5</td>\n",
       "      <td>39.3</td>\n",
       "      <td>45.1</td>\n",
       "      <td>10.4</td>\n",
       "    </tr>\n",
       "    <tr>\n",
       "      <th>2</th>\n",
       "      <td>3</td>\n",
       "      <td>17.2</td>\n",
       "      <td>45.9</td>\n",
       "      <td>69.3</td>\n",
       "      <td>9.3</td>\n",
       "    </tr>\n",
       "    <tr>\n",
       "      <th>3</th>\n",
       "      <td>4</td>\n",
       "      <td>151.5</td>\n",
       "      <td>41.3</td>\n",
       "      <td>58.5</td>\n",
       "      <td>18.5</td>\n",
       "    </tr>\n",
       "    <tr>\n",
       "      <th>4</th>\n",
       "      <td>5</td>\n",
       "      <td>180.8</td>\n",
       "      <td>10.8</td>\n",
       "      <td>58.4</td>\n",
       "      <td>12.9</td>\n",
       "    </tr>\n",
       "  </tbody>\n",
       "</table>\n",
       "</div>"
      ],
      "text/plain": [
       "   Unnamed: 0     TV  radio  newspaper  sales\n",
       "0           1  230.1   37.8       69.2   22.1\n",
       "1           2   44.5   39.3       45.1   10.4\n",
       "2           3   17.2   45.9       69.3    9.3\n",
       "3           4  151.5   41.3       58.5   18.5\n",
       "4           5  180.8   10.8       58.4   12.9"
      ]
     },
     "execution_count": 2,
     "metadata": {},
     "output_type": "execute_result"
    }
   ],
   "source": [
    "# getting the data.\n",
    "df= pd.read_csv(\"https://raw.githubusercontent.com/dsrscientist/DSData/master/Advertising.csv\")\n",
    "df.head()"
   ]
  },
  {
   "cell_type": "code",
   "execution_count": 3,
   "id": "dfc34c88",
   "metadata": {},
   "outputs": [],
   "source": [
    "# dropping the \"Unnamed: 0\" column which just numbers the entries.\n",
    "df= df.drop(columns=[\"Unnamed: 0\"])"
   ]
  },
  {
   "cell_type": "code",
   "execution_count": 5,
   "id": "4d0063d2",
   "metadata": {},
   "outputs": [
    {
     "name": "stdout",
     "output_type": "stream",
     "text": [
      "<class 'pandas.core.frame.DataFrame'>\n",
      "RangeIndex: 200 entries, 0 to 199\n",
      "Data columns (total 4 columns):\n",
      " #   Column     Non-Null Count  Dtype  \n",
      "---  ------     --------------  -----  \n",
      " 0   TV         200 non-null    float64\n",
      " 1   radio      200 non-null    float64\n",
      " 2   newspaper  200 non-null    float64\n",
      " 3   sales      200 non-null    float64\n",
      "dtypes: float64(4)\n",
      "memory usage: 6.4 KB\n"
     ]
    }
   ],
   "source": [
    "# getting the basic information about the columns and their data-type.\n",
    "df.info()"
   ]
  },
  {
   "cell_type": "code",
   "execution_count": 35,
   "id": "c4c6eee9",
   "metadata": {},
   "outputs": [
    {
     "data": {
      "text/plain": [
       "TV           0\n",
       "radio        0\n",
       "newspaper    0\n",
       "sales        0\n",
       "dtype: int64"
      ]
     },
     "execution_count": 35,
     "metadata": {},
     "output_type": "execute_result"
    }
   ],
   "source": [
    "# checking for null values.\n",
    "df.isnull().sum()"
   ]
  },
  {
   "cell_type": "code",
   "execution_count": 36,
   "id": "d8d57142",
   "metadata": {},
   "outputs": [
    {
     "data": {
      "text/plain": [
       "False    200\n",
       "dtype: int64"
      ]
     },
     "execution_count": 36,
     "metadata": {},
     "output_type": "execute_result"
    }
   ],
   "source": [
    "# checking for duplicates.\n",
    "df.duplicated().value_counts()"
   ]
  },
  {
   "cell_type": "code",
   "execution_count": 6,
   "id": "5892034b",
   "metadata": {},
   "outputs": [
    {
     "data": {
      "text/html": [
       "<div>\n",
       "<style scoped>\n",
       "    .dataframe tbody tr th:only-of-type {\n",
       "        vertical-align: middle;\n",
       "    }\n",
       "\n",
       "    .dataframe tbody tr th {\n",
       "        vertical-align: top;\n",
       "    }\n",
       "\n",
       "    .dataframe thead th {\n",
       "        text-align: right;\n",
       "    }\n",
       "</style>\n",
       "<table border=\"1\" class=\"dataframe\">\n",
       "  <thead>\n",
       "    <tr style=\"text-align: right;\">\n",
       "      <th></th>\n",
       "      <th>count</th>\n",
       "      <th>mean</th>\n",
       "      <th>std</th>\n",
       "      <th>min</th>\n",
       "      <th>25%</th>\n",
       "      <th>50%</th>\n",
       "      <th>75%</th>\n",
       "      <th>max</th>\n",
       "    </tr>\n",
       "  </thead>\n",
       "  <tbody>\n",
       "    <tr>\n",
       "      <th>TV</th>\n",
       "      <td>200.0</td>\n",
       "      <td>147.0425</td>\n",
       "      <td>85.854236</td>\n",
       "      <td>0.7</td>\n",
       "      <td>74.375</td>\n",
       "      <td>149.75</td>\n",
       "      <td>218.825</td>\n",
       "      <td>296.4</td>\n",
       "    </tr>\n",
       "    <tr>\n",
       "      <th>radio</th>\n",
       "      <td>200.0</td>\n",
       "      <td>23.2640</td>\n",
       "      <td>14.846809</td>\n",
       "      <td>0.0</td>\n",
       "      <td>9.975</td>\n",
       "      <td>22.90</td>\n",
       "      <td>36.525</td>\n",
       "      <td>49.6</td>\n",
       "    </tr>\n",
       "    <tr>\n",
       "      <th>newspaper</th>\n",
       "      <td>200.0</td>\n",
       "      <td>30.5540</td>\n",
       "      <td>21.778621</td>\n",
       "      <td>0.3</td>\n",
       "      <td>12.750</td>\n",
       "      <td>25.75</td>\n",
       "      <td>45.100</td>\n",
       "      <td>114.0</td>\n",
       "    </tr>\n",
       "    <tr>\n",
       "      <th>sales</th>\n",
       "      <td>200.0</td>\n",
       "      <td>14.0225</td>\n",
       "      <td>5.217457</td>\n",
       "      <td>1.6</td>\n",
       "      <td>10.375</td>\n",
       "      <td>12.90</td>\n",
       "      <td>17.400</td>\n",
       "      <td>27.0</td>\n",
       "    </tr>\n",
       "  </tbody>\n",
       "</table>\n",
       "</div>"
      ],
      "text/plain": [
       "           count      mean        std  min     25%     50%      75%    max\n",
       "TV         200.0  147.0425  85.854236  0.7  74.375  149.75  218.825  296.4\n",
       "radio      200.0   23.2640  14.846809  0.0   9.975   22.90   36.525   49.6\n",
       "newspaper  200.0   30.5540  21.778621  0.3  12.750   25.75   45.100  114.0\n",
       "sales      200.0   14.0225   5.217457  1.6  10.375   12.90   17.400   27.0"
      ]
     },
     "execution_count": 6,
     "metadata": {},
     "output_type": "execute_result"
    }
   ],
   "source": [
    "# Let's look at some of the properties of our dataset.\n",
    "df.describe().T"
   ]
  },
  {
   "cell_type": "code",
   "execution_count": 7,
   "id": "612ed3ed",
   "metadata": {},
   "outputs": [
    {
     "data": {
      "image/png": "[encoded data removed]",
      "text/plain": [
       "<Figure size 720x504 with 4 Axes>"
      ]
     },
     "metadata": {
      "needs_background": "light"
     },
     "output_type": "display_data"
    }
   ],
   "source": [
    "# Let's see the distribution plot of our columns.\n",
    "plt.figure(figsize=(10,7))\n",
    "plotnumber=1\n",
    "for column in df:\n",
    "    if plotnumber<=4:\n",
    "        ax= plt.subplot(2,2,plotnumber)\n",
    "        sns.distplot(df[column])\n",
    "        plt.xlabel(column,fontsize=10)\n",
    "    plotnumber+=1\n",
    "plt.show()"
   ]
  },
  {
   "cell_type": "code",
   "execution_count": 8,
   "id": "6ce5ad8e",
   "metadata": {},
   "outputs": [
    {
     "data": {
      "image/png": "[encoded data removed]",
      "text/plain": [
       "<Figure size 720x504 with 4 Axes>"
      ]
     },
     "metadata": {
      "needs_background": "light"
     },
     "output_type": "display_data"
    }
   ],
   "source": [
    "# Let's see the box-plot of our columns.\n",
    "plt.figure(figsize=(10,7))\n",
    "plotnumber=1\n",
    "for column in df:\n",
    "    if plotnumber<=4:\n",
    "        ax= plt.subplot(2,2,plotnumber)\n",
    "        sns.boxplot(df[column])\n",
    "        plt.xlabel(column,fontsize=10)\n",
    "    plotnumber+=1\n",
    "plt.show()\n",
    "\n",
    "# \"newspaper\" column seems to be having some outliers."
   ]
  },
  {
   "cell_type": "code",
   "execution_count": 9,
   "id": "3762c9ec",
   "metadata": {},
   "outputs": [],
   "source": [
    "# Let's remove the outliers using IQR method.\n",
    "percentile25 = df['newspaper'].quantile(0.25)\n",
    "percentile75 = df['newspaper'].quantile(0.75)\n",
    "iqr= percentile75-percentile25\n",
    "upper_limit = percentile75 + 1.5 * iqr\n",
    "lower_limit = percentile25 - 1.5 * iqr\n",
    "df = df[df['newspaper'] < upper_limit]\n",
    "df = df[df['newspaper'] > lower_limit]"
   ]
  },
  {
   "cell_type": "code",
   "execution_count": 10,
   "id": "f7acad79",
   "metadata": {},
   "outputs": [
    {
     "data": {
      "text/plain": [
       "<AxesSubplot:xlabel='newspaper'>"
      ]
     },
     "execution_count": 10,
     "metadata": {},
     "output_type": "execute_result"
    },
    {
     "data": {
      "image/png": "[encoded data removed]",
      "text/plain": [
       "<Figure size 432x288 with 1 Axes>"
      ]
     },
     "metadata": {
      "needs_background": "light"
     },
     "output_type": "display_data"
    }
   ],
   "source": [
    "# Box-plot of \"newspaper\" column after removal of outliers.\n",
    "sns.boxplot(df[\"newspaper\"])"
   ]
  },
  {
   "cell_type": "code",
   "execution_count": 11,
   "id": "d06d24ac",
   "metadata": {},
   "outputs": [
    {
     "data": {
      "text/plain": [
       "<AxesSubplot:xlabel='TV', ylabel='sales'>"
      ]
     },
     "execution_count": 11,
     "metadata": {},
     "output_type": "execute_result"
    },
    {
     "data": {
      "image/png": "[encoded data removed]",
      "text/plain": [
       "<Figure size 432x288 with 1 Axes>"
      ]
     },
     "metadata": {
      "needs_background": "light"
     },
     "output_type": "display_data"
    }
   ],
   "source": [
    "# Let's see the scatter-plot of \"TV\" column vs the target variable.\n",
    "sns.scatterplot(x=df[\"TV\"],y=df[\"sales\"])\n",
    "\n",
    "# There seems to be a linear relation between them."
   ]
  },
  {
   "cell_type": "code",
   "execution_count": 12,
   "id": "c09397ba",
   "metadata": {},
   "outputs": [
    {
     "data": {
      "text/plain": [
       "<AxesSubplot:xlabel='radio', ylabel='sales'>"
      ]
     },
     "execution_count": 12,
     "metadata": {},
     "output_type": "execute_result"
    },
    {
     "data": {
      "image/png": "[encoded data removed]",
      "text/plain": [
       "<Figure size 432x288 with 1 Axes>"
      ]
     },
     "metadata": {
      "needs_background": "light"
     },
     "output_type": "display_data"
    }
   ],
   "source": [
    "# Let's see the scatter-plot of \"radio\" column vs the target variable.\n",
    "sns.scatterplot(x=df[\"radio\"],y=df[\"sales\"])\n",
    "\n",
    "# There seems to be a linear relation with some noise."
   ]
  },
  {
   "cell_type": "code",
   "execution_count": 13,
   "id": "616a7761",
   "metadata": {},
   "outputs": [
    {
     "data": {
      "text/plain": [
       "<AxesSubplot:xlabel='newspaper', ylabel='sales'>"
      ]
     },
     "execution_count": 13,
     "metadata": {},
     "output_type": "execute_result"
    },
    {
     "data": {
      "image/png": "[encoded data removed]",
      "text/plain": [
       "<Figure size 432x288 with 1 Axes>"
      ]
     },
     "metadata": {
      "needs_background": "light"
     },
     "output_type": "display_data"
    }
   ],
   "source": [
    "# Let's see the scatter-plot of \"newspaper\" column vs the target variable.\n",
    "sns.scatterplot(x=df[\"newspaper\"],y=df[\"sales\"])\n",
    "\n",
    "# nothing specific can be told about the relation between them from the plot. \n",
    "# The correlation coefficient of \"newspaper\" column needs to be checked to see if the relation is statistically significant. "
   ]
  },
  {
   "cell_type": "code",
   "execution_count": 14,
   "id": "1962a368",
   "metadata": {},
   "outputs": [
    {
     "data": {
      "text/plain": [
       "<AxesSubplot:>"
      ]
     },
     "execution_count": 14,
     "metadata": {},
     "output_type": "execute_result"
    },
    {
     "data": {
      "image/png": "[encoded data removed]",
      "text/plain": [
       "<Figure size 576x360 with 2 Axes>"
      ]
     },
     "metadata": {
      "needs_background": "light"
     },
     "output_type": "display_data"
    }
   ],
   "source": [
    "# Let's plot the heat-map of correlation among the columns.\n",
    "corr= df.corr()\n",
    "plt.figure(figsize=(8,5))\n",
    "sns.heatmap(corr,annot=True,cmap=\"coolwarm\")"
   ]
  },
  {
   "cell_type": "code",
   "execution_count": 15,
   "id": "2727c84a",
   "metadata": {},
   "outputs": [
    {
     "data": {
      "text/plain": [
       "TV           0.779121\n",
       "radio        0.576748\n",
       "newspaper    0.219555\n",
       "sales        1.000000\n",
       "Name: sales, dtype: float64"
      ]
     },
     "execution_count": 15,
     "metadata": {},
     "output_type": "execute_result"
    }
   ],
   "source": [
    "# Let's check the relation of our feature columns with our target variable.\n",
    "corr[\"sales\"]\n",
    "\n",
    "# since the value of \"newspaper\" doesn't seem to be insignificant. Hence let's keep the column for further analysis."
   ]
  },
  {
   "cell_type": "code",
   "execution_count": 52,
   "id": "2b134d56",
   "metadata": {},
   "outputs": [
    {
     "data": {
      "text/plain": [
       "TV          -0.082332\n",
       "radio        0.114842\n",
       "newspaper    0.650112\n",
       "sales        0.407130\n",
       "dtype: float64"
      ]
     },
     "execution_count": 52,
     "metadata": {},
     "output_type": "execute_result"
    }
   ],
   "source": [
    "# Let's check the skewness in our data.\n",
    "df.skew()\n",
    "\n",
    "# newspaper column seems to have skewness."
   ]
  },
  {
   "cell_type": "code",
   "execution_count": 16,
   "id": "4535c2cf",
   "metadata": {},
   "outputs": [],
   "source": [
    "# Let's apply power-transformation on the \"newspaper\" column.\n",
    "from sklearn.preprocessing import PowerTransformer\n",
    "\n",
    "pt= PowerTransformer(method=\"box-cox\")\n",
    "df[\"newspaper\"]= pt.fit_transform(df[[\"newspaper\"]])"
   ]
  },
  {
   "cell_type": "code",
   "execution_count": 17,
   "id": "7c803ffe",
   "metadata": {},
   "outputs": [
    {
     "data": {
      "text/plain": [
       "TV          -0.082332\n",
       "radio        0.114842\n",
       "newspaper   -0.117312\n",
       "sales        0.407130\n",
       "dtype: float64"
      ]
     },
     "execution_count": 17,
     "metadata": {},
     "output_type": "execute_result"
    }
   ],
   "source": [
    "# let's check skewness now\n",
    "df.skew()\n",
    "\n",
    "# skewsness of \"newspaper\" column have come down to an acceptable level."
   ]
  },
  {
   "cell_type": "code",
   "execution_count": 18,
   "id": "94a1c2d8",
   "metadata": {},
   "outputs": [],
   "source": [
    "# Separating target variable and features.\n",
    "X= df.drop(columns=[\"sales\"])\n",
    "y= df[\"sales\"]"
   ]
  },
  {
   "cell_type": "code",
   "execution_count": 19,
   "id": "1ec6b54f",
   "metadata": {},
   "outputs": [],
   "source": [
    "# Scaling the data using Standard-Scaler.\n",
    "from sklearn.preprocessing import StandardScaler\n",
    "\n",
    "scaler= StandardScaler()\n",
    "X_scaled= scaler.fit_transform(X)"
   ]
  },
  {
   "cell_type": "code",
   "execution_count": 20,
   "id": "d20f95ae",
   "metadata": {},
   "outputs": [
    {
     "name": "stdout",
     "output_type": "stream",
     "text": [
      "        vif   Features\n",
      "0  1.003260         TV\n",
      "1  1.098161      radio\n",
      "2  1.096756  newspaper\n"
     ]
    }
   ],
   "source": [
    "# checking the variance-inflation-factor among our features.\n",
    "from statsmodels.stats.outliers_influence import variance_inflation_factor\n",
    "\n",
    "vif = pd.DataFrame()\n",
    "vif[\"vif\"]=[variance_inflation_factor(X_scaled,i) for i in range(X_scaled.shape[1])]\n",
    "vif[\"Features\"]= X.columns\n",
    "print(vif)\n",
    "\n",
    "# All values seems to be under acceptable level."
   ]
  },
  {
   "cell_type": "code",
   "execution_count": 22,
   "id": "4f8c42f3",
   "metadata": {},
   "outputs": [
    {
     "name": "stdout",
     "output_type": "stream",
     "text": [
      "Training Score for sample 0 : 88.1\n",
      "Testing Score for sample 0 : 91.94\n",
      "Mean Absolute Error 1.26\n",
      "Root Mean Squared Error 1.63\n",
      "\n",
      "\n",
      "Training Score for sample 1 : 89.13\n",
      "Testing Score for sample 1 : 90.19\n",
      "Mean Absolute Error 1.12\n",
      "Root Mean Squared Error 1.55\n",
      "\n",
      "\n",
      "Training Score for sample 2 : 91.4\n",
      "Testing Score for sample 2 : 84.29\n",
      "Mean Absolute Error 1.49\n",
      "Root Mean Squared Error 2.19\n",
      "\n",
      "\n",
      "Training Score for sample 3 : 88.6\n",
      "Testing Score for sample 3 : 91.46\n",
      "Mean Absolute Error 1.32\n",
      "Root Mean Squared Error 1.65\n",
      "\n",
      "\n",
      "Training Score for sample 4 : 90.03\n",
      "Testing Score for sample 4 : 86.25\n",
      "Mean Absolute Error 1.23\n",
      "Root Mean Squared Error 1.58\n",
      "\n",
      "\n",
      "Training Score for sample 5 : 90.01\n",
      "Testing Score for sample 5 : 86.64\n",
      "Mean Absolute Error 1.41\n",
      "Root Mean Squared Error 1.76\n",
      "\n",
      "\n",
      "Training Score for sample 6 : 89.38\n",
      "Testing Score for sample 6 : 89.38\n",
      "Mean Absolute Error 1.26\n",
      "Root Mean Squared Error 1.85\n",
      "\n",
      "\n",
      "Training Score for sample 7 : 89.14\n",
      "Testing Score for sample 7 : 90.23\n",
      "Mean Absolute Error 1.38\n",
      "Root Mean Squared Error 1.68\n",
      "\n",
      "\n",
      "Training Score for sample 8 : 90.3\n",
      "Testing Score for sample 8 : 86.83\n",
      "Mean Absolute Error 1.33\n",
      "Root Mean Squared Error 1.99\n",
      "\n",
      "\n",
      "Training Score for sample 9 : 88.54\n",
      "Testing Score for sample 9 : 91.9\n",
      "Mean Absolute Error 1.23\n",
      "Root Mean Squared Error 1.49\n",
      "\n",
      "\n"
     ]
    }
   ],
   "source": [
    "############################################## LINEAR REGRESSION #############################################################\n",
    "\n",
    "from sklearn.linear_model import LinearRegression\n",
    "\n",
    "for i in range(0,10):\n",
    "    x_train,x_test,y_train,y_test = train_test_split(X_scaled,y,test_size=0.25,random_state=i)\n",
    "\n",
    "    lr= LinearRegression()\n",
    "    lr.fit(x_train,y_train)\n",
    "\n",
    "    y_pred_train = lr.predict(x_train)\n",
    "    accuracy_train = r2_score(y_train,y_pred_train)\n",
    "    print(\"Training Score for sample\",i,\":\",round(accuracy_train*100,2))\n",
    "\n",
    "    y_pred= lr.predict(x_test)\n",
    "    accuracy_test = r2_score(y_test,y_pred)\n",
    "    print(\"Testing Score for sample\",i,\":\",round(accuracy_test*100,2))\n",
    "\n",
    "    print(\"Mean Absolute Error\",round(mean_absolute_error(y_test,y_pred),2))\n",
    "    print(\"Root Mean Squared Error\",round(np.sqrt(mean_squared_error(y_test,y_pred)),2))\n",
    "    print(\"\\n\")"
   ]
  },
  {
   "cell_type": "code",
   "execution_count": 23,
   "id": "993bce2f",
   "metadata": {},
   "outputs": [
    {
     "name": "stdout",
     "output_type": "stream",
     "text": [
      "Training Score for sample 0 : 97.75\n",
      "Testing Score for sample 0 : 96.34\n",
      "Mean Absolute Error 0.89\n",
      "Root Mean Squared Error 1.1\n",
      "\n",
      "\n",
      "Training Score for sample 1 : 97.67\n",
      "Testing Score for sample 1 : 96.1\n",
      "Mean Absolute Error 0.82\n",
      "Root Mean Squared Error 0.98\n",
      "\n",
      "\n",
      "Training Score for sample 2 : 97.92\n",
      "Testing Score for sample 2 : 95.05\n",
      "Mean Absolute Error 0.99\n",
      "Root Mean Squared Error 1.23\n",
      "\n",
      "\n",
      "Training Score for sample 3 : 97.46\n",
      "Testing Score for sample 3 : 95.48\n",
      "Mean Absolute Error 0.97\n",
      "Root Mean Squared Error 1.2\n",
      "\n",
      "\n",
      "Training Score for sample 4 : 97.63\n",
      "Testing Score for sample 4 : 93.8\n",
      "Mean Absolute Error 0.84\n",
      "Root Mean Squared Error 1.06\n",
      "\n",
      "\n",
      "Training Score for sample 5 : 97.79\n",
      "Testing Score for sample 5 : 96.8\n",
      "Mean Absolute Error 0.67\n",
      "Root Mean Squared Error 0.86\n",
      "\n",
      "\n",
      "Training Score for sample 6 : 97.32\n",
      "Testing Score for sample 6 : 95.06\n",
      "Mean Absolute Error 0.99\n",
      "Root Mean Squared Error 1.26\n",
      "\n",
      "\n",
      "Training Score for sample 7 : 98.01\n",
      "Testing Score for sample 7 : 96.54\n",
      "Mean Absolute Error 0.8\n",
      "Root Mean Squared Error 1.0\n",
      "\n",
      "\n",
      "Training Score for sample 8 : 98.07\n",
      "Testing Score for sample 8 : 96.39\n",
      "Mean Absolute Error 0.77\n",
      "Root Mean Squared Error 1.04\n",
      "\n",
      "\n",
      "Training Score for sample 9 : 97.47\n",
      "Testing Score for sample 9 : 95.77\n",
      "Mean Absolute Error 0.76\n",
      "Root Mean Squared Error 1.08\n",
      "\n",
      "\n"
     ]
    }
   ],
   "source": [
    "############################################## ADABOOST REGRESSION #############################################################\n",
    "\n",
    "from sklearn.ensemble import AdaBoostRegressor\n",
    "\n",
    "for i in range(0,10):\n",
    "    x_train,x_test,y_train,y_test = train_test_split(X_scaled,y,test_size=0.25,random_state=i)\n",
    "\n",
    "    ada = AdaBoostRegressor()\n",
    "    ada.fit(x_train, y_train)\n",
    "\n",
    "    y_pred_train = ada.predict(x_train)\n",
    "    accuracy_train = r2_score(y_train,y_pred_train)\n",
    "    print(\"Training Score for sample\",i,\":\",round(accuracy_train*100,2))\n",
    "\n",
    "    y_pred= ada.predict(x_test)\n",
    "    accuracy_test = r2_score(y_test,y_pred)\n",
    "    print(\"Testing Score for sample\",i,\":\",round(accuracy_test*100,2))\n",
    "\n",
    "    print(\"Mean Absolute Error\",round(mean_absolute_error(y_test,y_pred),2))\n",
    "    print(\"Root Mean Squared Error\",round(np.sqrt(mean_squared_error(y_test,y_pred)),2))\n",
    "    print(\"\\n\")"
   ]
  },
  {
   "cell_type": "code",
   "execution_count": 32,
   "id": "eb96a654",
   "metadata": {},
   "outputs": [
    {
     "name": "stdout",
     "output_type": "stream",
     "text": [
      "Training Score for sample 0 : 99.5\n",
      "Testing Score for sample 0 : 97.98\n",
      "Mean Absolute Error 0.64\n",
      "Root Mean Squared Error 0.81\n",
      "\n",
      "\n",
      "Training Score for sample 1 : 99.59\n",
      "Testing Score for sample 1 : 98.25\n",
      "Mean Absolute Error 0.55\n",
      "Root Mean Squared Error 0.66\n",
      "\n",
      "\n",
      "Training Score for sample 2 : 99.67\n",
      "Testing Score for sample 2 : 96.97\n",
      "Mean Absolute Error 0.71\n",
      "Root Mean Squared Error 0.96\n",
      "\n",
      "\n",
      "Training Score for sample 3 : 99.53\n",
      "Testing Score for sample 3 : 97.45\n",
      "Mean Absolute Error 0.72\n",
      "Root Mean Squared Error 0.9\n",
      "\n",
      "\n",
      "Training Score for sample 4 : 99.63\n",
      "Testing Score for sample 4 : 97.31\n",
      "Mean Absolute Error 0.54\n",
      "Root Mean Squared Error 0.7\n",
      "\n",
      "\n",
      "Training Score for sample 5 : 99.64\n",
      "Testing Score for sample 5 : 97.89\n",
      "Mean Absolute Error 0.55\n",
      "Root Mean Squared Error 0.7\n",
      "\n",
      "\n",
      "Training Score for sample 6 : 99.6\n",
      "Testing Score for sample 6 : 97.09\n",
      "Mean Absolute Error 0.66\n",
      "Root Mean Squared Error 0.97\n",
      "\n",
      "\n",
      "Training Score for sample 7 : 99.6\n",
      "Testing Score for sample 7 : 98.13\n",
      "Mean Absolute Error 0.56\n",
      "Root Mean Squared Error 0.74\n",
      "\n",
      "\n",
      "Training Score for sample 8 : 99.64\n",
      "Testing Score for sample 8 : 97.36\n",
      "Mean Absolute Error 0.65\n",
      "Root Mean Squared Error 0.89\n",
      "\n",
      "\n",
      "Training Score for sample 9 : 99.59\n",
      "Testing Score for sample 9 : 97.77\n",
      "Mean Absolute Error 0.6\n",
      "Root Mean Squared Error 0.78\n",
      "\n",
      "\n"
     ]
    }
   ],
   "source": [
    "############################################## RANDOM-FORESTS REGRESSION #######################################################\n",
    "\n",
    "from sklearn.ensemble import RandomForestRegressor\n",
    "\n",
    "for i in range(0,10):\n",
    "    x_train,x_test,y_train,y_test = train_test_split(X_scaled,y,test_size=0.25,random_state=i)\n",
    "\n",
    "    rf= RandomForestRegressor()\n",
    "    rf.fit(x_train,y_train)\n",
    "\n",
    "    y_pred_train = rf.predict(x_train)\n",
    "    accuracy_train = r2_score(y_train,y_pred_train)\n",
    "    print(\"Training Score for sample\",i,\":\",round(accuracy_train*100,2))\n",
    "\n",
    "    y_pred= rf.predict(x_test)\n",
    "    accuracy_test = r2_score(y_test,y_pred)\n",
    "    print(\"Testing Score for sample\",i,\":\",round(accuracy_test*100,2))\n",
    "\n",
    "    print(\"Mean Absolute Error\",round(mean_absolute_error(y_test,y_pred),2))\n",
    "    print(\"Root Mean Squared Error\",round(np.sqrt(mean_squared_error(y_test,y_pred)),2))\n",
    "    print(\"\\n\")"
   ]
  },
  {
   "cell_type": "code",
   "execution_count": null,
   "id": "dca3a026",
   "metadata": {},
   "outputs": [],
   "source": [
    "# Random-forests seems to be giving the best results. Let's try to tune it further."
   ]
  },
  {
   "cell_type": "code",
   "execution_count": 33,
   "id": "40ba37d1",
   "metadata": {},
   "outputs": [
    {
     "name": "stdout",
     "output_type": "stream",
     "text": [
      "{'max_depth': 8, 'min_samples_split': 2, 'n_estimators': 100}\n"
     ]
    }
   ],
   "source": [
    "# Hyperparameter tuning of Random forest regression.\n",
    "\n",
    "from sklearn.model_selection import GridSearchCV\n",
    "\n",
    "params= {\"n_estimators\": np.arange(50,300,50),\n",
    "         \"max_depth\": range(6,10),\n",
    "         \"min_samples_split\": range(2,4)\n",
    "         }\n",
    "\n",
    "grd= GridSearchCV(rf, param_grid=params,cv=5,n_jobs=-1)\n",
    "\n",
    "grd.fit(x_train,y_train)\n",
    "print(grd.best_params_)"
   ]
  },
  {
   "cell_type": "code",
   "execution_count": 34,
   "id": "f79f709a",
   "metadata": {},
   "outputs": [
    {
     "name": "stdout",
     "output_type": "stream",
     "text": [
      "Training Score for best sample 99.41\n",
      "Testing Score for best sample: 99.01\n",
      "Mean Absolute Error 0.37\n",
      "Root Mean Squared Error 0.49\n"
     ]
    }
   ],
   "source": [
    "# Taking the best sample split result and applying on the random-forests tuned model.\n",
    "\n",
    "rf_tuned= grd.best_estimator_\n",
    "x_train,x_test,y_train,y_test = train_test_split(X_scaled,y,test_size=0.25,random_state=1)\n",
    "\n",
    "y_pred_train = rf_tuned.predict(x_train)\n",
    "accuracy_train = r2_score(y_train,y_pred_train)\n",
    "y_pred= rf_tuned.predict(x_test)\n",
    "accuracy_test = r2_score(y_test,y_pred)\n",
    "\n",
    "print(\"Training Score for best sample\",round(accuracy_train*100,2))\n",
    "print(\"Testing Score for best sample:\",round(accuracy_test*100,2))\n",
    "print(\"Mean Absolute Error\",round(mean_absolute_error(y_test,y_pred),2))\n",
    "print(\"Root Mean Squared Error\",round(np.sqrt(mean_squared_error(y_test,y_pred)),2))"
   ]
  },
  {
   "cell_type": "code",
   "execution_count": 35,
   "id": "0a0bf1f0",
   "metadata": {},
   "outputs": [
    {
     "name": "stdout",
     "output_type": "stream",
     "text": [
      "the cv score for 5 fold: 97.45\n",
      "the cv score for 6 fold: 97.66\n",
      "the cv score for 7 fold: 97.54\n",
      "the cv score for 8 fold: 97.77\n",
      "the cv score for 9 fold: 97.77\n"
     ]
    }
   ],
   "source": [
    "# cross-validating the tuned random-forest regression model.\n",
    "\n",
    "from sklearn.model_selection import cross_val_score, KFold\n",
    "\n",
    "for i in range(5,10):\n",
    "    cv_score= cross_val_score(rf_tuned,X_scaled,y,cv=i).mean()\n",
    "    print(\"the cv score for\",i,\"fold:\", round(cv_score*100,2))"
   ]
  },
  {
   "cell_type": "code",
   "execution_count": 36,
   "id": "7efc3eff",
   "metadata": {},
   "outputs": [
    {
     "name": "stdout",
     "output_type": "stream",
     "text": [
      "the cv score for 5 fold: 88.58\n",
      "the cv score for 6 fold: 88.69\n",
      "the cv score for 7 fold: 88.41\n",
      "the cv score for 8 fold: 88.83\n",
      "the cv score for 9 fold: 88.13\n"
     ]
    }
   ],
   "source": [
    "# cross-validating the linear regression model.\n",
    "\n",
    "from sklearn.model_selection import cross_val_score, KFold\n",
    "\n",
    "for i in range(5,10):\n",
    "    cv_score= cross_val_score(lr,X_scaled,y,cv=i).mean()\n",
    "    print(\"the cv score for\",i,\"fold:\", round(cv_score*100,2))"
   ]
  },
  {
   "cell_type": "code",
   "execution_count": 37,
   "id": "3aa62606",
   "metadata": {},
   "outputs": [
    {
     "name": "stdout",
     "output_type": "stream",
     "text": [
      "the cv score for 5 fold: 95.7\n",
      "the cv score for 6 fold: 95.68\n",
      "the cv score for 7 fold: 95.57\n",
      "the cv score for 8 fold: 95.23\n",
      "the cv score for 9 fold: 95.59\n"
     ]
    }
   ],
   "source": [
    "# cross-validating the adaboost regression model.\n",
    "\n",
    "from sklearn.model_selection import cross_val_score, KFold\n",
    "\n",
    "for i in range(5,10):\n",
    "    cv_score= cross_val_score(ada,X_scaled,y,cv=i).mean()\n",
    "    print(\"the cv score for\",i,\"fold:\", round(cv_score*100,2))"
   ]
  },
  {
   "cell_type": "code",
   "execution_count": 38,
   "id": "96fcdfa7",
   "metadata": {},
   "outputs": [],
   "source": [
    "# saving the model using pickle\n",
    "import pickle \n",
    "\n",
    "Advertising= \"Advertising_model.pickle\"\n",
    "pickle.dump(rf_tuned, open(Advertising,'wb'))"
   ]
  },
  {
   "cell_type": "code",
   "execution_count": null,
   "id": "d28bb53a",
   "metadata": {},
   "outputs": [],
   "source": []
  }
 ],
 "metadata": {
  "kernelspec": {
   "display_name": "Python 3 (ipykernel)",
   "language": "python",
   "name": "python3"
  },
  "language_info": {
   "codemirror_mode": {
    "name": "ipython",
    "version": 3
   },
   "file_extension": ".py",
   "mimetype": "text/x-python",
   "name": "python",
   "nbconvert_exporter": "python",
   "pygments_lexer": "ipython3",
   "version": "3.9.7"
  }
 },
 "nbformat": 4,
 "nbformat_minor": 5
}
